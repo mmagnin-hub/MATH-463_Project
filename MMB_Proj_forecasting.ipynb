{
 "cells": [
  {
   "cell_type": "markdown",
   "metadata": {},
   "source": [
    "# Project forecasting"
   ]
  },
  {
   "cell_type": "markdown",
   "metadata": {},
   "source": [
    "## Imports"
   ]
  },
  {
   "cell_type": "code",
   "execution_count": 1,
   "metadata": {},
   "outputs": [
    {
     "name": "stdout",
     "output_type": "stream",
     "text": [
      "Sample segments: {'female_44_less': np.int64(1631), 'female_45_more': np.int64(1034), 'male_44_less': np.int64(1451), 'male_45_more': np.int64(884)}\n",
      "Sample size: 5000\n",
      "Weights: {'female_44_less': np.float64(1.005031010413465), 'female_45_more': np.float64(0.8480333014252863), 'male_44_less': np.float64(1.1635155138048476), 'male_45_more': np.float64(0.9000757667545914)}\n",
      "Sum of the weights: 5000.0\n"
     ]
    }
   ],
   "source": [
    "# utils\n",
    "from utils.market_share import *\n",
    "\n",
    "from typing import Dict, List, Any\n",
    "import pickle\n",
    "from tqdm import tqdm \n"
   ]
  },
  {
   "cell_type": "markdown",
   "metadata": {},
   "source": [
    "Informations about the data [here](https://transp-or.epfl.ch/documents/technicalReports/CS_LPMC.pdf)."
   ]
  },
  {
   "cell_type": "markdown",
   "metadata": {},
   "source": [
    "## Functions"
   ]
  },
  {
   "cell_type": "markdown",
   "metadata": {},
   "source": [
    "## Goal"
   ]
  },
  {
   "cell_type": "markdown",
   "metadata": {},
   "source": [
    "1. Report the market shares predicted by Modelpref for each scenario.\n",
    "Do they match your expectations? Compare those with the original market shares. [1 point]"
   ]
  },
  {
   "cell_type": "markdown",
   "metadata": {},
   "source": [
    "## Scenario 1"
   ]
  },
  {
   "cell_type": "markdown",
   "metadata": {},
   "source": [
    "An additional charge of £1.5 to the car users"
   ]
  },
  {
   "cell_type": "markdown",
   "metadata": {},
   "source": [
    "## Scenario 2"
   ]
  },
  {
   "cell_type": "markdown",
   "metadata": {},
   "source": [
    "A decrease of the public transport cost by 20%."
   ]
  },
  {
   "cell_type": "code",
   "execution_count": 2,
   "metadata": {},
   "outputs": [
    {
     "name": "stderr",
     "output_type": "stream",
     "text": [
      "  0%|          | 0/3 [00:00<?, ?it/s]"
     ]
    },
    {
     "name": "stdout",
     "output_type": "stream",
     "text": [
      "         Prob. walk  Prob. cycle     Prob. PT    Prob. car\n",
      "count  5.000000e+03  5000.000000  5000.000000  5000.000000\n",
      "mean   1.703767e-01     0.029207     0.358890     0.441526\n",
      "std    2.260103e-01     0.012960     0.254236     0.222339\n",
      "min    8.660739e-28     0.001614     0.005290     0.002442\n",
      "25%    5.319330e-05     0.020711     0.155136     0.273019\n",
      "50%    3.077858e-02     0.028471     0.284067     0.448252\n",
      "75%    3.185664e-01     0.036282     0.497879     0.607074\n",
      "max    8.370088e-01     0.078111     0.994786     0.974086\n"
     ]
    },
    {
     "name": "stderr",
     "output_type": "stream",
     "text": [
      " 33%|███▎      | 1/3 [01:37<03:14, 97.44s/it]"
     ]
    },
    {
     "name": "stdout",
     "output_type": "stream",
     "text": [
      "         Prob. walk  Prob. cycle     Prob. PT    Prob. car\n",
      "count  5.000000e+03  5000.000000  5000.000000  5000.000000\n",
      "mean   1.703884e-01     0.029206     0.358799     0.441607\n",
      "std    2.261803e-01     0.013140     0.254139     0.222430\n",
      "min    6.136939e-28     0.001462     0.005301     0.002354\n",
      "25%    5.119002e-05     0.020557     0.155295     0.273381\n",
      "50%    3.074970e-02     0.028401     0.284078     0.448298\n",
      "75%    3.196096e-01     0.036415     0.497224     0.607197\n",
      "max    8.387495e-01     0.079291     0.995076     0.974299\n"
     ]
    },
    {
     "name": "stderr",
     "output_type": "stream",
     "text": [
      " 67%|██████▋   | 2/3 [03:15<01:38, 98.08s/it]"
     ]
    },
    {
     "name": "stdout",
     "output_type": "stream",
     "text": [
      "         Prob. walk  Prob. cycle     Prob. PT    Prob. car\n",
      "count  5.000000e+03  5000.000000  5000.000000  5000.000000\n",
      "mean   1.703884e-01     0.029206     0.358799     0.441607\n",
      "std    2.261803e-01     0.013140     0.254139     0.222430\n",
      "min    6.136939e-28     0.001462     0.005301     0.002354\n",
      "25%    5.119002e-05     0.020557     0.155295     0.273381\n",
      "50%    3.074970e-02     0.028401     0.284078     0.448298\n",
      "75%    3.196096e-01     0.036415     0.497224     0.607197\n",
      "max    8.387495e-01     0.079291     0.995076     0.974299\n"
     ]
    },
    {
     "name": "stderr",
     "output_type": "stream",
     "text": [
      "100%|██████████| 3/3 [04:52<00:00, 97.34s/it]"
     ]
    },
    {
     "name": "stdout",
     "output_type": "stream",
     "text": [
      "Market shares calculated and saved in market_shares_forecasting.pickle\n"
     ]
    },
    {
     "name": "stderr",
     "output_type": "stream",
     "text": [
      "\n"
     ]
    }
   ],
   "source": [
    "# create a dict best practice \n",
    "model_market_share: Dict[str, List] = {\n",
    "    \"Model 4\" : [V_3, results_nested, biogeme_nested, True],\n",
    "    \"Model 4 scenario 1\" : [V_scenario1, results_scenario1, biogeme_scenario1, True],\n",
    "    \"Model 4 scenario 2\" : [V_scenario2, results_scenario2, biogeme_scenario2, True]\n",
    "}\n",
    "file_name = 'market_shares_forecasting.pickle'\n",
    "try:\n",
    "    with open(file_name, 'rb') as f:\n",
    "        all_market_shares = pickle.load(f)\n",
    "        print(f'Market shares read from {file_name}')\n",
    "except FileNotFoundError:\n",
    "    # If the file is not found, calculate the market shares for each model\n",
    "    all_market_shares: Dict[str, Any] = {\n",
    "        model: market_share(utilities, results, model_biogeme, is_nested) \n",
    "        for model, (utilities, results, model_biogeme, is_nested) in tqdm(model_market_share.items())\n",
    "    }\n",
    "    # Save the calculated market shares to the pickle file\n",
    "    with open(file_name, 'wb') as f:\n",
    "        pickle.dump(all_market_shares, f)\n",
    "    print(f'Market shares calculated and saved in {file_name}')"
   ]
  },
  {
   "cell_type": "code",
   "execution_count": 3,
   "metadata": {},
   "outputs": [
    {
     "name": "stdout",
     "output_type": "stream",
     "text": [
      "dict_keys(['Model 4', 'Model 4 scenario 1', 'Model 4 scenario 2'])\n"
     ]
    }
   ],
   "source": [
    "print(all_market_shares.keys())"
   ]
  },
  {
   "cell_type": "code",
   "execution_count": null,
   "metadata": {},
   "outputs": [],
   "source": []
  }
 ],
 "metadata": {
  "kernelspec": {
   "display_name": "24env",
   "language": "python",
   "name": "python3"
  },
  "language_info": {
   "codemirror_mode": {
    "name": "ipython",
    "version": 3
   },
   "file_extension": ".py",
   "mimetype": "text/x-python",
   "name": "python",
   "nbconvert_exporter": "python",
   "pygments_lexer": "ipython3",
   "version": "3.12.5"
  }
 },
 "nbformat": 4,
 "nbformat_minor": 4
}
