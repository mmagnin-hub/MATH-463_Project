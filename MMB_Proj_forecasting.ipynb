{
 "cells": [
  {
   "cell_type": "markdown",
   "metadata": {},
   "source": [
    "# Project forecasting"
   ]
  },
  {
   "cell_type": "markdown",
   "metadata": {},
   "source": [
    "## Imports"
   ]
  },
  {
   "cell_type": "code",
   "execution_count": 20,
   "metadata": {},
   "outputs": [],
   "source": [
    "# utils\n",
    "from utils.market_share import *\n",
    "\n",
    "from typing import Dict, List, Any\n",
    "import pickle\n",
    "from tqdm import tqdm \n"
   ]
  },
  {
   "cell_type": "markdown",
   "metadata": {},
   "source": [
    "Informations about the data [here](https://transp-or.epfl.ch/documents/technicalReports/CS_LPMC.pdf)."
   ]
  },
  {
   "cell_type": "markdown",
   "metadata": {},
   "source": [
    "## Functions"
   ]
  },
  {
   "cell_type": "markdown",
   "metadata": {},
   "source": [
    "## Goal"
   ]
  },
  {
   "cell_type": "markdown",
   "metadata": {},
   "source": [
    "1. Report the market shares predicted by Modelpref for each scenario.\n",
    "Do they match your expectations? Compare those with the original market shares. [1 point]"
   ]
  },
  {
   "cell_type": "markdown",
   "metadata": {},
   "source": [
    "## Scenario 1"
   ]
  },
  {
   "cell_type": "markdown",
   "metadata": {},
   "source": [
    "An additional charge of £1.5 to the car users"
   ]
  },
  {
   "cell_type": "markdown",
   "metadata": {},
   "source": [
    "## Scenario 2"
   ]
  },
  {
   "cell_type": "markdown",
   "metadata": {},
   "source": [
    "A decrease of the public transport cost by 20%."
   ]
  },
  {
   "cell_type": "code",
   "execution_count": 22,
   "metadata": {},
   "outputs": [
    {
     "name": "stdout",
     "output_type": "stream",
     "text": [
      "Market shares read from market_shares_forecasting.pickle\n"
     ]
    }
   ],
   "source": [
    "# create a dict best practice \n",
    "model_market_share: Dict[str, List] = {\n",
    "    \"Model 4 scenario 2\" : [V_3, results_nested]# do it by hand very sketchy part !!!!\n",
    "}\n",
    " \n",
    "file_name = 'market_shares_forecasting.pickle'\n",
    "try:\n",
    "    with open(file_name, 'rb') as f:\n",
    "        all_market_shares = pickle.load(f)\n",
    "        print(f'Market shares read from {file_name}')\n",
    "except FileNotFoundError:\n",
    "    \n",
    "    all_market_shares: Dict[str, Any] = {\n",
    "        model: market_share(utilities, results) \n",
    "        for model, (utilities, results) in tqdm(model_market_share.items())\n",
    "    }\n",
    "    # Save the calculated market shares to the pickle file\n",
    "    with open(file_name, 'ab') as f:\n",
    "        pickle.dump(all_market_shares, f)\n",
    "    print(f'Market shares calculated and saved in {file_name}')"
   ]
  },
  {
   "cell_type": "code",
   "execution_count": 28,
   "metadata": {},
   "outputs": [
    {
     "name": "stdout",
     "output_type": "stream",
     "text": [
      "dict_keys(['Model 4'])\n",
      "{'Model 4': {'Walking': IndicatorTuple(value=np.float64(0.16926692227752185), lower=np.float64(0.14472646767660818), upper=np.float64(0.1846492787121359)), 'Cycling': IndicatorTuple(value=np.float64(0.02919112349750728), lower=np.float64(0.01925433359908701), upper=np.float64(0.03618786929567122)), 'Public transportation': IndicatorTuple(value=np.float64(0.361891207822671), lower=np.float64(0.31277417682127334), upper=np.float64(0.48065631237001755)), 'Car': IndicatorTuple(value=np.float64(0.43965074640229995), lower=np.float64(0.35698967705633305), upper=np.float64(0.49994423410794553))}}\n",
      "{'Model 4 scenario 1': {'Walking': IndicatorTuple(value=np.float64(0.16926692227752185), lower=np.float64(0.150897229493781), upper=np.float64(0.18794663660374886)), 'Cycling': IndicatorTuple(value=np.float64(0.02919112349750728), lower=np.float64(0.021192847392588827), upper=np.float64(0.036235973548737324)), 'Public transportation': IndicatorTuple(value=np.float64(0.361891207822671), lower=np.float64(0.32164422696618883), upper=np.float64(0.4553972661910542)), 'Car': IndicatorTuple(value=np.float64(0.43965074640229995), lower=np.float64(0.34463943131285707), upper=np.float64(0.4841078205679505))}}\n",
      "{'Model 4 scenario 2': {'Walking': IndicatorTuple(value=np.float64(0.16926692227752185), lower=np.float64(0.14468529949702127), upper=np.float64(0.18959530112205636)), 'Cycling': IndicatorTuple(value=np.float64(0.02919112349750728), lower=np.float64(0.01872754711974461), upper=np.float64(0.03596087457197473)), 'Public transportation': IndicatorTuple(value=np.float64(0.361891207822671), lower=np.float64(0.2985499940078479), upper=np.float64(0.5062777856737476)), 'Car': IndicatorTuple(value=np.float64(0.43965074640229995), lower=np.float64(0.2772280456762551), upper=np.float64(0.5068413145183748))}}\n"
     ]
    }
   ],
   "source": [
    "print(all_market_shares.keys())\n",
    "objects = []\n",
    "with open(file_name, 'rb') as f:\n",
    "    while True:\n",
    "        try:\n",
    "            obj = pickle.load(f)\n",
    "            objects.append(obj)\n",
    "        except EOFError:  # End of file\n",
    "            break\n",
    "\n",
    "for obj in objects:  # Loop through all the loaded dictionaries\n",
    "        print(obj)"
   ]
  }
 ],
 "metadata": {
  "kernelspec": {
   "display_name": "24env",
   "language": "python",
   "name": "python3"
  },
  "language_info": {
   "codemirror_mode": {
    "name": "ipython",
    "version": 3
   },
   "file_extension": ".py",
   "mimetype": "text/x-python",
   "name": "python",
   "nbconvert_exporter": "python",
   "pygments_lexer": "ipython3",
   "version": "3.12.5"
  }
 },
 "nbformat": 4,
 "nbformat_minor": 4
}
