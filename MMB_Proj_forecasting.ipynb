{
 "cells": [
  {
   "cell_type": "markdown",
   "metadata": {},
   "source": [
    "# Project forecasting"
   ]
  },
  {
   "cell_type": "markdown",
   "metadata": {},
   "source": [
    "## Imports"
   ]
  },
  {
   "cell_type": "code",
   "execution_count": 1,
   "metadata": {},
   "outputs": [
    {
     "name": "stdout",
     "output_type": "stream",
     "text": [
      "Sample segments: {'female_44_less': np.int64(1631), 'female_45_more': np.int64(1034), 'male_44_less': np.int64(1451), 'male_45_more': np.int64(884)}\n",
      "Sample size: 5000\n",
      "Weights: {'female_44_less': np.float64(1.005031010413465), 'female_45_more': np.float64(0.8480333014252863), 'male_44_less': np.float64(1.1635155138048476), 'male_45_more': np.float64(0.9000757667545914)}\n",
      "Sum of the weights: 5000.0\n"
     ]
    }
   ],
   "source": [
    "# utils\n",
    "from utils.market_share import *\n",
    "\n",
    "from typing import Dict, List, Any\n",
    "import pickle\n",
    "from tqdm import tqdm \n"
   ]
  },
  {
   "cell_type": "markdown",
   "metadata": {},
   "source": [
    "Informations about the data [here](https://transp-or.epfl.ch/documents/technicalReports/CS_LPMC.pdf)."
   ]
  },
  {
   "cell_type": "markdown",
   "metadata": {},
   "source": [
    "## Functions"
   ]
  },
  {
   "cell_type": "markdown",
   "metadata": {},
   "source": [
    "## Goal"
   ]
  },
  {
   "cell_type": "markdown",
   "metadata": {},
   "source": [
    "1. Report the market shares predicted by Modelpref for each scenario.\n",
    "Do they match your expectations? Compare those with the original market shares. [1 point]"
   ]
  },
  {
   "cell_type": "markdown",
   "metadata": {},
   "source": [
    "## Scenario 1"
   ]
  },
  {
   "cell_type": "markdown",
   "metadata": {},
   "source": [
    "An additional charge of £1.5 to the car users"
   ]
  },
  {
   "cell_type": "markdown",
   "metadata": {},
   "source": [
    "## Scenario 2"
   ]
  },
  {
   "cell_type": "markdown",
   "metadata": {},
   "source": [
    "A decrease of the public transport cost by 20%."
   ]
  },
  {
   "cell_type": "code",
   "execution_count": 2,
   "metadata": {},
   "outputs": [
    {
     "name": "stderr",
     "output_type": "stream",
     "text": [
      "  0%|          | 0/3 [00:00<?, ?it/s]"
     ]
    },
    {
     "name": "stdout",
     "output_type": "stream",
     "text": [
      "         Prob. walk  Prob. cycle     Prob. PT    Prob. car\n",
      "count  5.000000e+03  5000.000000  5000.000000  5000.000000\n",
      "mean   1.703815e-01     0.029206     0.358771     0.441642\n",
      "std    2.261562e-01     0.013183     0.254056     0.222394\n",
      "min    5.824013e-28     0.001408     0.005301     0.002324\n",
      "25%    5.130373e-05     0.020531     0.155238     0.273868\n",
      "50%    3.075383e-02     0.028423     0.283894     0.448525\n",
      "75%    3.195024e-01     0.036441     0.497140     0.607193\n",
      "max    8.393298e-01     0.079564     0.995172     0.974367\n"
     ]
    },
    {
     "name": "stderr",
     "output_type": "stream",
     "text": [
      " 33%|███▎      | 1/3 [01:12<02:25, 72.94s/it]"
     ]
    },
    {
     "name": "stdout",
     "output_type": "stream",
     "text": [
      "         Prob. walk  Prob. cycle     Prob. PT    Prob. car\n",
      "count  5.000000e+03  5000.000000  5000.000000  5000.000000\n",
      "mean   1.703885e-01     0.029203     0.358788     0.441621\n",
      "std    2.261855e-01     0.013173     0.254124     0.222438\n",
      "min    5.947356e-28     0.001435     0.005298     0.002339\n",
      "25%    5.115338e-05     0.020537     0.155312     0.273502\n",
      "50%    3.080365e-02     0.028398     0.283957     0.448358\n",
      "75%    3.197033e-01     0.036408     0.497293     0.607263\n",
      "max    8.389883e-01     0.079490     0.995126     0.974349\n"
     ]
    },
    {
     "name": "stderr",
     "output_type": "stream",
     "text": [
      " 67%|██████▋   | 2/3 [02:24<01:12, 72.10s/it]"
     ]
    },
    {
     "name": "stdout",
     "output_type": "stream",
     "text": [
      "         Prob. walk  Prob. cycle     Prob. PT    Prob. car\n",
      "count  5.000000e+03  5000.000000  5000.000000  5000.000000\n",
      "mean   1.703885e-01     0.029203     0.358788     0.441621\n",
      "std    2.261855e-01     0.013173     0.254124     0.222438\n",
      "min    5.947356e-28     0.001435     0.005298     0.002339\n",
      "25%    5.115338e-05     0.020537     0.155312     0.273502\n",
      "50%    3.080365e-02     0.028398     0.283957     0.448358\n",
      "75%    3.197033e-01     0.036408     0.497293     0.607263\n",
      "max    8.389883e-01     0.079490     0.995126     0.974349\n"
     ]
    },
    {
     "name": "stderr",
     "output_type": "stream",
     "text": [
      "100%|██████████| 3/3 [03:36<00:00, 72.18s/it]"
     ]
    },
    {
     "name": "stdout",
     "output_type": "stream",
     "text": [
      "Market shares calculated and saved in market_shares_forecasting.pickle\n"
     ]
    },
    {
     "name": "stderr",
     "output_type": "stream",
     "text": [
      "\n"
     ]
    }
   ],
   "source": [
    "# create a dict best practice \n",
    "model_market_share: Dict[str, List] = {\n",
    "    \"Model 4\" : [V_3, results_nested, biogeme_nested, True],\n",
    "    \"Model 4 scenario 1\" : [V_scenario1, results_scenario1, biogeme_scenario1, True],\n",
    "    \"Model 4 scenario 2\" : [V_scenario2, results_scenario2, biogeme_scenario2, True]\n",
    "}\n",
    "file_name = 'market_shares_forecasting.pickle'\n",
    "try:\n",
    "    with open(file_name, 'rb') as f:\n",
    "        all_market_shares = pickle.load(f)\n",
    "        print(f'Market shares read from {file_name}')\n",
    "except FileNotFoundError:\n",
    "    # If the file is not found, calculate the market shares for each model\n",
    "    all_market_shares: Dict[str, Any] = {\n",
    "        model: market_share(utilities, results, model_biogeme, is_nested) \n",
    "        for model, (utilities, results, model_biogeme, is_nested) in tqdm(model_market_share.items())\n",
    "    }\n",
    "    # Save the calculated market shares to the pickle file\n",
    "    with open(file_name, 'wb') as f:\n",
    "        pickle.dump(all_market_shares, f)\n",
    "    print(f'Market shares calculated and saved in {file_name}')"
   ]
  },
  {
   "cell_type": "code",
   "execution_count": 3,
   "metadata": {},
   "outputs": [
    {
     "name": "stdout",
     "output_type": "stream",
     "text": [
      "dict_keys(['Model 4', 'Model 4 scenario 1', 'Model 4 scenario 2'])\n"
     ]
    }
   ],
   "source": [
    "print(all_market_shares.keys())"
   ]
  },
  {
   "cell_type": "code",
   "execution_count": 4,
   "metadata": {},
   "outputs": [
    {
     "name": "stdout",
     "output_type": "stream",
     "text": [
      "{'Walking': IndicatorTuple(value=np.float64(0.16923833328461266), lower=np.float64(0.14618407551079435), upper=np.float64(0.18993254328687548)), 'Cycling': IndicatorTuple(value=np.float64(0.029198246016707174), lower=np.float64(0.01938111650224318), upper=np.float64(0.036798647884725005)), 'Public transportation': IndicatorTuple(value=np.float64(0.36194918032624634), lower=np.float64(0.3068775749698955), upper=np.float64(0.48577635571145694)), 'Car': IndicatorTuple(value=np.float64(0.43961424037243385), lower=np.float64(0.2948880614221003), upper=np.float64(0.4944855816065458))}\n",
      "{'Walking': IndicatorTuple(value=np.float64(0.16924385352194174), lower=np.float64(0.14133476904194), upper=np.float64(0.18569621281094337)), 'Cycling': IndicatorTuple(value=np.float64(0.029195160761040746), lower=np.float64(0.01872374668409441), upper=np.float64(0.035566927766007)), 'Public transportation': IndicatorTuple(value=np.float64(0.3619678076670275), lower=np.float64(0.3172744738759581), upper=np.float64(0.47425036043959)), 'Car': IndicatorTuple(value=np.float64(0.43959317804999), lower=np.float64(0.33504642371642585), upper=np.float64(0.4911399374579376))}\n",
      "{'Walking': IndicatorTuple(value=np.float64(0.16924385352194174), lower=np.float64(0.14787075091378843), upper=np.float64(0.18932766839910098)), 'Cycling': IndicatorTuple(value=np.float64(0.029195160761040746), lower=np.float64(0.01999728462902235), upper=np.float64(0.036161269312406256)), 'Public transportation': IndicatorTuple(value=np.float64(0.3619678076670275), lower=np.float64(0.31361508716891756), upper=np.float64(0.49993555826282754)), 'Car': IndicatorTuple(value=np.float64(0.43959317804999), lower=np.float64(0.30649555301542253), upper=np.float64(0.492263045407451))}\n"
     ]
    }
   ],
   "source": [
    "print(all_market_shares[\"Model 4\"])\n",
    "print(all_market_shares[\"Model 4 scenario 1\"])\n",
    "print(all_market_shares[\"Model 4 scenario 2\"])"
   ]
  },
  {
   "cell_type": "code",
   "execution_count": 8,
   "metadata": {},
   "outputs": [
    {
     "data": {
      "image/png": "[encoded data removed]",
      "text/plain": [
       "<Figure size 640x480 with 1 Axes>"
      ]
     },
     "metadata": {},
     "output_type": "display_data"
    }
   ],
   "source": [
    "import matplotlib.pyplot as plt\n",
    "import numpy as np\n",
    "\n",
    "# Raw data \n",
    "data_points = [\n",
    "    {'Walking': {'value': 0.16923833328461266, 'lower': 0.14618407551079435, 'upper': 0.18993254328687548}, \n",
    "     'Cycling': {'value': 0.029198246016707174, 'lower': 0.01938111650224318, 'upper': 0.036798647884725005}, \n",
    "     'Public transportation': {'value': 0.36194918032624634, 'lower': 0.3068775749698955, 'upper': 0.48577635571145694}, \n",
    "     'Car': {'value': 0.43961424037243385, 'lower': 0.2948880614221003, 'upper': 0.4944855816065458}\n",
    "    },\n",
    "    {'Walking': {'value': 0.16924385352194174, 'lower': 0.14133476904194, 'upper': 0.18569621281094337}, \n",
    "     'Cycling': {'value': 0.029195160761040746, 'lower': 0.01872374668409441, 'upper': 0.035566927766007}, \n",
    "     'Public transportation': {'value': 0.3619678076670275, 'lower': 0.3172744738759581, 'upper': 0.47425036043959}, \n",
    "     'Car': {'value': 0.43959317804999, 'lower': 0.33504642371642585, 'upper': 0.4911399374579376}\n",
    "    },\n",
    "    {'Walking': {'value': 0.16924385352194174, 'lower': 0.14787075091378843, 'upper': 0.18932766839910098}, \n",
    "     'Cycling': {'value': 0.029195160761040746, 'lower': 0.01999728462902235, 'upper': 0.036161269312406256}, \n",
    "     'Public transportation': {'value': 0.3619678076670275, 'lower': 0.31361508716891756, 'upper': 0.49993555826282754}, \n",
    "     'Car': {'value': 0.43959317804999, 'lower': 0.30649555301542253, 'upper': 0.492263045407451}\n",
    "    }\n",
    "]\n",
    "\n",
    "# Extract transport modes\n",
    "transport_modes = list(data_points[0].keys())\n",
    "\n",
    "# Prepare data for plotting\n",
    "times = [\"Model 4\", \"Model 4 scenario 1\", \"Model 4 scenario 2\"]  # Time points (arbitrary identifiers for each dataset)\n",
    "\n",
    "# Loop through each transport mode and plot the values with error bars\n",
    "for mode in transport_modes:\n",
    "    values = [dp[mode]['value'] for dp in data_points]\n",
    "    lower_bounds = [dp[mode]['lower'] for dp in data_points]\n",
    "    upper_bounds = [dp[mode]['upper'] for dp in data_points]\n",
    "    \n",
    "    # Calculate the error margins\n",
    "    lower_errors = [value - lower for value, lower in zip(values, lower_bounds)]\n",
    "    upper_errors = [upper - value for value, upper in zip(values, upper_bounds)]\n",
    "    \n",
    "    # Plot the error bars\n",
    "    plt.errorbar(times, values, yerr=[lower_errors, upper_errors], label=mode, capsize=5, marker='o', linestyle='-', linewidth=2)\n",
    "\n",
    "# Customize plot\n",
    "plt.xlabel('Models')\n",
    "plt.ylabel('Value')\n",
    "plt.title('Transport Mode Values with Error Bars Over Time')\n",
    "plt.xticks(times, labels=[f'Time {i}' for i in times])\n",
    "plt.legend(title=\"Transport Mode\")\n",
    "plt.grid(True, linestyle='--', alpha=0.6)\n",
    "\n",
    "# Show plot\n",
    "plt.tight_layout()\n",
    "plt.show()\n"
   ]
  },
  {
   "cell_type": "code",
   "execution_count": null,
   "metadata": {},
   "outputs": [],
   "source": []
  }
 ],
 "metadata": {
  "kernelspec": {
   "display_name": "24env",
   "language": "python",
   "name": "python3"
  },
  "language_info": {
   "codemirror_mode": {
    "name": "ipython",
    "version": 3
   },
   "file_extension": ".py",
   "mimetype": "text/x-python",
   "name": "python",
   "nbconvert_exporter": "python",
   "pygments_lexer": "ipython3",
   "version": "3.12.5"
  }
 },
 "nbformat": 4,
 "nbformat_minor": 4
}
