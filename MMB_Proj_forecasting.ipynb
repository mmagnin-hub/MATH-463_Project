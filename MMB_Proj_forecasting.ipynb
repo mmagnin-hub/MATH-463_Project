{
 "cells": [
  {
   "cell_type": "markdown",
   "metadata": {},
   "source": [
    "# Project forecasting"
   ]
  },
  {
   "cell_type": "markdown",
   "metadata": {},
   "source": [
    "## Imports"
   ]
  },
  {
   "cell_type": "code",
   "execution_count": 1,
   "metadata": {},
   "outputs": [],
   "source": [
    "from IPython.core.display_functions import display\n",
    "from scipy.stats import chi2\n",
    "\n",
    "# Database\n",
    "from models.logit_lmpc12_model0 import database\n",
    "\n",
    "# Model pref\n",
    "from models.logit_lmpc12_model4 import nests \n",
    "from models.logit_lmpc12_model3 import V_boxcox as V_pref \n",
    "from models.logit_lmpc12_model3 import chosen_alternative as choice_pref\n",
    "\n",
    "# biogeme\n",
    "import biogeme.biogeme as bio\n",
    "from biogeme.models import lognested, logcnl\n",
    "\n",
    "# market share\n",
    "from biogeme.expressions import Expression\n",
    "from typing import NamedTuple\n"
   ]
  },
  {
   "cell_type": "markdown",
   "metadata": {},
   "source": [
    "Informations about the data [here](https://transp-or.epfl.ch/documents/technicalReports/CS_LPMC.pdf)."
   ]
  },
  {
   "cell_type": "markdown",
   "metadata": {},
   "source": [
    "## Functions"
   ]
  },
  {
   "cell_type": "code",
   "execution_count": null,
   "metadata": {},
   "outputs": [],
   "source": [
    "class IndicatorTuple(NamedTuple):\n",
    "    \"\"\"Tuple storing the value of an indicator, and the bounds on its confidence interval.\"\"\"\n",
    "\n",
    "    value: float\n",
    "    lower: float\n",
    "    upper: float\n",
    "\n"
   ]
  },
  {
   "cell_type": "code",
   "execution_count": null,
   "metadata": {},
   "outputs": [],
   "source": [
    "def market_share(utilities: dict[int, Expression]) -> dict[str, IndicatorTuple]:\n",
    "    \"\"\"Calculate the market shares of all alternatives, given the\n",
    "    specification of the utility functions.\n",
    "\n",
    "    :param utilities: specification of the utility functions. It is a\n",
    "        dict where the keys are the IDs of the alternatives, and the\n",
    "        values are the expressions of the utility functions.\n",
    "\n",
    "    :return: a dictionary where each entry corresponds to an\n",
    "        alternative, and associates its name with the IndicatorTuple\n",
    "        containing the value of the market share, and the lower and\n",
    "        upper bounds of the 90% confidence interval.\n",
    "\n",
    "\n",
    "    \"\"\"\n",
    "    prob_pt = logit(utilities, None, 0)\n",
    "    prob_car = logit(utilities, None, 1)\n",
    "    prob_sm = logit(utilities, None, 2)\n",
    "\n",
    "    simulate = {\n",
    "        'weight': normalizedWeight,\n",
    "        'Prob. PT': prob_pt,\n",
    "        'Prob. car': prob_car,\n",
    "        'Prob. SM': prob_sm,\n",
    "    }\n",
    "    biosim = BIOGEME(database, simulate)\n",
    "    simulated_values = biosim.simulate(results.get_beta_values())\n",
    "\n",
    "    # We also calculate confidence intervals for the calculated quantities\n",
    "    betas = biogeme.free_beta_names\n",
    "    b = results.get_betas_for_sensitivity_analysis(betas)\n",
    "    left, right = biosim.confidence_intervals(b, 0.9)\n",
    "\n",
    "    # Market shares are calculated using the weighted mean of the individual probabilities\n",
    "\n",
    "    # Alternative car\n",
    "    simulated_values['Weighted choice_prob. car'] = (\n",
    "        simulated_values['weight'] * simulated_values['Prob. car']\n",
    "    )\n",
    "    left['Weighted choice_prob. car'] = left['weight'] * left['Prob. car']\n",
    "    right['Weighted choice_prob. car'] = right['weight'] * right['Prob. car']\n",
    "\n",
    "    market_share_car = simulated_values['Weighted choice_prob. car'].mean()\n",
    "    market_share_car_left = left['Weighted choice_prob. car'].mean()\n",
    "    market_share_car_right = right['Weighted choice_prob. car'].mean()\n",
    "\n",
    "    # Alternative public transportation\n",
    "    simulated_values['Weighted choice_prob. PT'] = (\n",
    "        simulated_values['weight'] * simulated_values['Prob. PT']\n",
    "    )\n",
    "    left['Weighted choice_prob. PT'] = left['weight'] * left['Prob. PT']\n",
    "    right['Weighted choice_prob. PT'] = right['weight'] * right['Prob. PT']\n",
    "\n",
    "    market_share_pt = simulated_values['Weighted choice_prob. PT'].mean()\n",
    "    market_share_pt_left = left['Weighted choice_prob. PT'].mean()\n",
    "    market_share_pt_right = right['Weighted choice_prob. PT'].mean()\n",
    "\n",
    "    # Alternative slow modes\n",
    "    simulated_values['Weighted choice_prob. SM'] = (\n",
    "        simulated_values['weight'] * simulated_values['Prob. SM']\n",
    "    )\n",
    "    left['Weighted choice_prob. SM'] = left['weight'] * left['Prob. SM']\n",
    "    right['Weighted choice_prob. SM'] = right['weight'] * right['Prob. SM']\n",
    "\n",
    "    market_share_sm = simulated_values['Weighted choice_prob. SM'].mean()\n",
    "    market_share_sm_left = left['Weighted choice_prob. SM'].mean()\n",
    "    market_share_sm_right = right['Weighted choice_prob. SM'].mean()\n",
    "\n",
    "    return {\n",
    "        'Car': IndicatorTuple(\n",
    "            value=market_share_car,\n",
    "            lower=market_share_car_left,\n",
    "            upper=market_share_car_right,\n",
    "        ),\n",
    "        'Public transportation': IndicatorTuple(\n",
    "            value=market_share_pt,\n",
    "            lower=market_share_pt_left,\n",
    "            upper=market_share_pt_right,\n",
    "        ),\n",
    "        'Slow modes': IndicatorTuple(\n",
    "            value=market_share_sm,\n",
    "            lower=market_share_sm_left,\n",
    "            upper=market_share_sm_right,\n",
    "        ),\n",
    "    }\n",
    "\n"
   ]
  },
  {
   "cell_type": "markdown",
   "metadata": {},
   "source": [
    "## Goal"
   ]
  },
  {
   "cell_type": "markdown",
   "metadata": {},
   "source": [
    "1. Report the market shares predicted by Modelpref for each scenario.\n",
    "Do they match your expectations? Compare those with the original market shares. [1 point]"
   ]
  },
  {
   "cell_type": "markdown",
   "metadata": {},
   "source": [
    "## Scenario 1"
   ]
  },
  {
   "cell_type": "code",
   "execution_count": 2,
   "metadata": {},
   "outputs": [],
   "source": [
    "from models.logit_lmpc12_model5 import V_boxcox as V_1\n",
    "from models.logit_lmpc12_model5 import chosen_alternative as choice_1"
   ]
  },
  {
   "cell_type": "markdown",
   "metadata": {},
   "source": [
    "An additional charge of £1.5 to the car users"
   ]
  },
  {
   "cell_type": "code",
   "execution_count": 5,
   "metadata": {},
   "outputs": [],
   "source": [
    "# model pref = nested model\n",
    "logprob_nested = lognested(V_1, None,nests, choice_1)\n",
    "biogeme_nested = bio.BIOGEME(database, logprob_nested)\n",
    "biogeme_nested.modelName = 'model_scenario1'\n",
    "results_scenario1 = biogeme_nested.estimate(recycle=False)"
   ]
  },
  {
   "cell_type": "code",
   "execution_count": 7,
   "metadata": {},
   "outputs": [
    {
     "data": {
      "text/html": [
       "<div>\n",
       "<style scoped>\n",
       "    .dataframe tbody tr th:only-of-type {\n",
       "        vertical-align: middle;\n",
       "    }\n",
       "\n",
       "    .dataframe tbody tr th {\n",
       "        vertical-align: top;\n",
       "    }\n",
       "\n",
       "    .dataframe thead th {\n",
       "        text-align: right;\n",
       "    }\n",
       "</style>\n",
       "<table border=\"1\" class=\"dataframe\">\n",
       "  <thead>\n",
       "    <tr style=\"text-align: right;\">\n",
       "      <th></th>\n",
       "      <th>Value</th>\n",
       "      <th>Rob. Std err</th>\n",
       "      <th>Rob. t-test</th>\n",
       "      <th>Rob. p-value</th>\n",
       "    </tr>\n",
       "  </thead>\n",
       "  <tbody>\n",
       "    <tr>\n",
       "      <th>beta_fare</th>\n",
       "      <td>-0.075303</td>\n",
       "      <td>0.034547</td>\n",
       "      <td>-2.179720</td>\n",
       "      <td>0.029278</td>\n",
       "    </tr>\n",
       "    <tr>\n",
       "      <th>beta_travel_time</th>\n",
       "      <td>-8.747491</td>\n",
       "      <td>0.990511</td>\n",
       "      <td>-8.831292</td>\n",
       "      <td>0.000000</td>\n",
       "    </tr>\n",
       "    <tr>\n",
       "      <th>beta_travel_time_2</th>\n",
       "      <td>-2.314073</td>\n",
       "      <td>0.606624</td>\n",
       "      <td>-3.814677</td>\n",
       "      <td>0.000136</td>\n",
       "    </tr>\n",
       "    <tr>\n",
       "      <th>beta_travel_time_2_non-work-education-related</th>\n",
       "      <td>0.091320</td>\n",
       "      <td>0.171649</td>\n",
       "      <td>0.532018</td>\n",
       "      <td>0.594713</td>\n",
       "    </tr>\n",
       "    <tr>\n",
       "      <th>beta_travel_time_3</th>\n",
       "      <td>-0.900950</td>\n",
       "      <td>0.427374</td>\n",
       "      <td>-2.108108</td>\n",
       "      <td>0.035022</td>\n",
       "    </tr>\n",
       "    <tr>\n",
       "      <th>beta_travel_time_3_non-work-education-related</th>\n",
       "      <td>-0.244121</td>\n",
       "      <td>0.110973</td>\n",
       "      <td>-2.199824</td>\n",
       "      <td>0.027819</td>\n",
       "    </tr>\n",
       "    <tr>\n",
       "      <th>beta_travel_time_4</th>\n",
       "      <td>-1.230525</td>\n",
       "      <td>0.603993</td>\n",
       "      <td>-2.037317</td>\n",
       "      <td>0.041618</td>\n",
       "    </tr>\n",
       "    <tr>\n",
       "      <th>beta_travel_time_4_non-work-education-related</th>\n",
       "      <td>-0.330736</td>\n",
       "      <td>0.131628</td>\n",
       "      <td>-2.512660</td>\n",
       "      <td>0.011982</td>\n",
       "    </tr>\n",
       "    <tr>\n",
       "      <th>beta_travel_time_non-work-education-related</th>\n",
       "      <td>0.117226</td>\n",
       "      <td>0.552344</td>\n",
       "      <td>0.212233</td>\n",
       "      <td>0.831925</td>\n",
       "    </tr>\n",
       "    <tr>\n",
       "      <th>constant_2</th>\n",
       "      <td>-8.612661</td>\n",
       "      <td>0.967823</td>\n",
       "      <td>-8.899003</td>\n",
       "      <td>0.000000</td>\n",
       "    </tr>\n",
       "    <tr>\n",
       "      <th>constant_3</th>\n",
       "      <td>-4.007262</td>\n",
       "      <td>0.836855</td>\n",
       "      <td>-4.788478</td>\n",
       "      <td>0.000002</td>\n",
       "    </tr>\n",
       "    <tr>\n",
       "      <th>constant_4</th>\n",
       "      <td>-4.658630</td>\n",
       "      <td>1.118992</td>\n",
       "      <td>-4.163238</td>\n",
       "      <td>0.000031</td>\n",
       "    </tr>\n",
       "    <tr>\n",
       "      <th>lambda_boxcox</th>\n",
       "      <td>0.362374</td>\n",
       "      <td>0.081800</td>\n",
       "      <td>4.429995</td>\n",
       "      <td>0.000009</td>\n",
       "    </tr>\n",
       "    <tr>\n",
       "      <th>mu_motorized</th>\n",
       "      <td>2.755220</td>\n",
       "      <td>1.135614</td>\n",
       "      <td>2.426194</td>\n",
       "      <td>0.015258</td>\n",
       "    </tr>\n",
       "  </tbody>\n",
       "</table>\n",
       "</div>"
      ],
      "text/plain": [
       "                                                  Value  Rob. Std err  \\\n",
       "beta_fare                                     -0.075303      0.034547   \n",
       "beta_travel_time                              -8.747491      0.990511   \n",
       "beta_travel_time_2                            -2.314073      0.606624   \n",
       "beta_travel_time_2_non-work-education-related  0.091320      0.171649   \n",
       "beta_travel_time_3                            -0.900950      0.427374   \n",
       "beta_travel_time_3_non-work-education-related -0.244121      0.110973   \n",
       "beta_travel_time_4                            -1.230525      0.603993   \n",
       "beta_travel_time_4_non-work-education-related -0.330736      0.131628   \n",
       "beta_travel_time_non-work-education-related    0.117226      0.552344   \n",
       "constant_2                                    -8.612661      0.967823   \n",
       "constant_3                                    -4.007262      0.836855   \n",
       "constant_4                                    -4.658630      1.118992   \n",
       "lambda_boxcox                                  0.362374      0.081800   \n",
       "mu_motorized                                   2.755220      1.135614   \n",
       "\n",
       "                                               Rob. t-test  Rob. p-value  \n",
       "beta_fare                                        -2.179720      0.029278  \n",
       "beta_travel_time                                 -8.831292      0.000000  \n",
       "beta_travel_time_2                               -3.814677      0.000136  \n",
       "beta_travel_time_2_non-work-education-related     0.532018      0.594713  \n",
       "beta_travel_time_3                               -2.108108      0.035022  \n",
       "beta_travel_time_3_non-work-education-related    -2.199824      0.027819  \n",
       "beta_travel_time_4                               -2.037317      0.041618  \n",
       "beta_travel_time_4_non-work-education-related    -2.512660      0.011982  \n",
       "beta_travel_time_non-work-education-related       0.212233      0.831925  \n",
       "constant_2                                       -8.899003      0.000000  \n",
       "constant_3                                       -4.788478      0.000002  \n",
       "constant_4                                       -4.163238      0.000031  \n",
       "lambda_boxcox                                     4.429995      0.000009  \n",
       "mu_motorized                                      2.426194      0.015258  "
      ]
     },
     "metadata": {},
     "output_type": "display_data"
    }
   ],
   "source": [
    "display(results_scenario1.get_estimated_parameters())"
   ]
  },
  {
   "cell_type": "markdown",
   "metadata": {},
   "source": [
    "## Scenario 2"
   ]
  },
  {
   "cell_type": "code",
   "execution_count": 4,
   "metadata": {},
   "outputs": [],
   "source": [
    "from models.logit_lmpc12_model6 import V_boxcox as V_2\n",
    "from models.logit_lmpc12_model6 import chosen_alternative as choice_2"
   ]
  },
  {
   "cell_type": "markdown",
   "metadata": {},
   "source": [
    "A decrease of the public transport cost by 20%."
   ]
  },
  {
   "cell_type": "code",
   "execution_count": 6,
   "metadata": {},
   "outputs": [],
   "source": [
    "# model pref = nested model\n",
    "logprob_nested = lognested(V_2, None,nests, choice_2)\n",
    "biogeme_nested = bio.BIOGEME(database, logprob_nested)\n",
    "biogeme_nested.modelName = 'model_scenario2'\n",
    "results_scenario2 = biogeme_nested.estimate(recycle=False)"
   ]
  },
  {
   "cell_type": "code",
   "execution_count": null,
   "metadata": {},
   "outputs": [],
   "source": []
  }
 ],
 "metadata": {
  "kernelspec": {
   "display_name": "24env",
   "language": "python",
   "name": "python3"
  },
  "language_info": {
   "codemirror_mode": {
    "name": "ipython",
    "version": 3
   },
   "file_extension": ".py",
   "mimetype": "text/x-python",
   "name": "python",
   "nbconvert_exporter": "python",
   "pygments_lexer": "ipython3",
   "version": "3.12.5"
  }
 },
 "nbformat": 4,
 "nbformat_minor": 4
}
