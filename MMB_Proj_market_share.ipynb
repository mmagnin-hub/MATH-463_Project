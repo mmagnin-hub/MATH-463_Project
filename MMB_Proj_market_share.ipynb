{
 "cells": [
  {
   "cell_type": "markdown",
   "metadata": {},
   "source": [
    "# Project Market Share"
   ]
  },
  {
   "cell_type": "markdown",
   "metadata": {},
   "source": [
    "## Imports"
   ]
  },
  {
   "cell_type": "code",
   "execution_count": null,
   "metadata": {},
   "outputs": [
    {
     "name": "stdout",
     "output_type": "stream",
     "text": [
      "Sample segments: {'female_44_less': np.int64(1631), 'female_45_more': np.int64(1034), 'male_44_less': np.int64(1451), 'male_45_more': np.int64(884)}\n",
      "Sample size: 5000\n",
      "Weights: {'female_44_less': np.float64(1.005031010413465), 'female_45_more': np.float64(0.8480333014252863), 'male_44_less': np.float64(1.1635155138048476), 'male_45_more': np.float64(0.9000757667545914)}\n",
      "Sum of the weights: 5000.0\n"
     ]
    }
   ],
   "source": [
    "# utils\n",
    "from utils.market_share import *"
   ]
  },
  {
   "cell_type": "markdown",
   "metadata": {},
   "source": [
    "## Calculate market shares"
   ]
  },
  {
   "cell_type": "markdown",
   "metadata": {},
   "source": [
    "### Model 0"
   ]
  },
  {
   "cell_type": "code",
   "execution_count": null,
   "metadata": {},
   "outputs": [
    {
     "name": "stdout",
     "output_type": "stream",
     "text": [
      "         Prob. walk  Prob. cycle      Prob. PT    Prob. car\n",
      "count  5.000000e+03  5000.000000  5.000000e+03  5000.000000\n",
      "mean   1.704001e-01     0.029200  3.574000e-01     0.443000\n",
      "std    1.629612e-01     0.018439  1.821333e-01     0.220800\n",
      "min    1.903461e-13     0.000043  9.526819e-07     0.002286\n",
      "25%    8.750002e-03     0.019479  2.575017e-01     0.278642\n",
      "50%    1.257326e-01     0.025677  3.302956e-01     0.401025\n",
      "75%    3.145519e-01     0.033997  4.215278e-01     0.594204\n",
      "max    6.333856e-01     0.250870  9.970501e-01     0.999367\n",
      "Market share for Walking: 16.9% [15.9%, 17.9%]\n",
      "Market share for Cycling: 2.9% [2.5%, 3.4%]\n",
      "Market share for Public transportation: 35.8% [34.5%, 37.3%]\n",
      "Market share for Car: 44.3% [42.7%, 45.8%]\n"
     ]
    }
   ],
   "source": [
    "market_shares_base = market_share(V_0, res_mod0)\n",
    "for alternative, indicator in market_shares_base.items():\n",
    "    print(\n",
    "        f'Market share for {alternative}: {100*indicator.value:.1f}% '\n",
    "        f'[{100*indicator.lower:.1f}%, '\n",
    "        f'{100*indicator.upper:.1f}%]'\n",
    "    )"
   ]
  },
  {
   "cell_type": "markdown",
   "metadata": {},
   "source": [
    "### Model 1"
   ]
  },
  {
   "cell_type": "code",
   "execution_count": 14,
   "metadata": {},
   "outputs": [
    {
     "name": "stdout",
     "output_type": "stream",
     "text": [
      "         Prob. walk   Prob. cycle     Prob. PT    Prob. car\n",
      "count  5.000000e+03  5.000000e+03  5000.000000  5000.000000\n",
      "mean   1.704008e-01  2.919996e-02     0.357400     0.443000\n",
      "std    2.270605e-01  1.660377e-02     0.238669     0.213765\n",
      "min    2.174021e-26  5.122602e-07     0.000627     0.000161\n",
      "25%    8.570957e-05  1.832766e-02     0.185888     0.284840\n",
      "50%    3.310869e-02  2.910390e-02     0.286574     0.464464\n",
      "75%    3.151704e-01  3.868107e-02     0.441198     0.600420\n",
      "max    8.677694e-01  1.640226e-01     0.999810     0.999295\n",
      "Market share for Walking: 16.9% [15.9%, 17.8%]\n",
      "Market share for Cycling: 2.9% [2.4%, 3.5%]\n",
      "Market share for Public transportation: 36.0% [34.2%, 38.0%]\n",
      "Market share for Car: 44.2% [42.2%, 46.2%]\n"
     ]
    }
   ],
   "source": [
    "market_shares_base = market_share(V_1, res_mod1)\n",
    "for alternative, indicator in market_shares_base.items():\n",
    "    print(\n",
    "        f'Market share for {alternative}: {100*indicator.value:.1f}% '\n",
    "        f'[{100*indicator.lower:.1f}%, '\n",
    "        f'{100*indicator.upper:.1f}%]'\n",
    "    )"
   ]
  },
  {
   "cell_type": "markdown",
   "metadata": {},
   "source": [
    "### Model 2"
   ]
  },
  {
   "cell_type": "code",
   "execution_count": 15,
   "metadata": {},
   "outputs": [
    {
     "name": "stdout",
     "output_type": "stream",
     "text": [
      "         Prob. walk   Prob. cycle     Prob. PT    Prob. car\n",
      "count  5.000000e+03  5.000000e+03  5000.000000  5000.000000\n",
      "mean   1.703993e-01  2.920025e-02     0.357392     0.443009\n",
      "std    2.279146e-01  1.801238e-02     0.241310     0.221874\n",
      "min    7.812762e-28  3.447750e-09     0.000791     0.000261\n",
      "25%    9.163455e-05  1.758907e-02     0.180924     0.277342\n",
      "50%    3.273473e-02  2.851475e-02     0.285892     0.460267\n",
      "75%    3.104299e-01  3.900590e-02     0.448534     0.601886\n",
      "max    8.739168e-01  1.529539e-01     0.999597     0.998956\n",
      "Market share for Walking: 16.9% [15.8%, 18.2%]\n",
      "Market share for Cycling: 2.9% [2.3%, 3.7%]\n",
      "Market share for Public transportation: 36.0% [33.8%, 38.3%]\n",
      "Market share for Car: 44.1% [41.6%, 46.5%]\n"
     ]
    }
   ],
   "source": [
    "market_shares_base = market_share(V_2, res_mod2)\n",
    "for alternative, indicator in market_shares_base.items():\n",
    "    print(\n",
    "        f'Market share for {alternative}: {100*indicator.value:.1f}% '\n",
    "        f'[{100*indicator.lower:.1f}%, '\n",
    "        f'{100*indicator.upper:.1f}%]'\n",
    "    )"
   ]
  },
  {
   "cell_type": "markdown",
   "metadata": {},
   "source": [
    "### Model 3"
   ]
  },
  {
   "cell_type": "code",
   "execution_count": 16,
   "metadata": {},
   "outputs": [
    {
     "name": "stdout",
     "output_type": "stream",
     "text": [
      "         Prob. walk  Prob. cycle     Prob. PT    Prob. car\n",
      "count  5.000000e+03  5000.000000  5000.000000  5000.000000\n",
      "mean   1.704009e-01     0.029201     0.357401     0.442998\n",
      "std    2.292483e-01     0.017832     0.245960     0.218750\n",
      "min    1.155219e-30     0.000046     0.007444     0.001268\n",
      "25%    2.714156e-05     0.017530     0.166425     0.280431\n",
      "50%    2.740173e-02     0.026994     0.284779     0.457531\n",
      "75%    3.187701e-01     0.038115     0.474462     0.606570\n",
      "max    8.955295e-01     0.157479     0.998519     0.990473\n",
      "Market share for Walking: 16.9% [15.6%, 18.5%]\n",
      "Market share for Cycling: 2.9% [2.3%, 3.7%]\n",
      "Market share for Public transportation: 36.0% [33.8%, 38.4%]\n",
      "Market share for Car: 44.1% [41.6%, 46.6%]\n"
     ]
    }
   ],
   "source": [
    "market_shares_base = market_share(V_3, res_mod3)\n",
    "for alternative, indicator in market_shares_base.items():\n",
    "    print(\n",
    "        f'Market share for {alternative}: {100*indicator.value:.1f}% '\n",
    "        f'[{100*indicator.lower:.1f}%, '\n",
    "        f'{100*indicator.upper:.1f}%]'\n",
    "    )"
   ]
  },
  {
   "cell_type": "markdown",
   "metadata": {},
   "source": [
    "### Model 4"
   ]
  },
  {
   "cell_type": "code",
   "execution_count": 17,
   "metadata": {},
   "outputs": [
    {
     "name": "stdout",
     "output_type": "stream",
     "text": [
      "         Prob. walk  Prob. cycle     Prob. PT    Prob. car\n",
      "count  5.000000e+03  5000.000000  5000.000000  5000.000000\n",
      "mean   1.704053e-01     0.029198     0.358718     0.441679\n",
      "std    2.262141e-01     0.013285     0.254006     0.222438\n",
      "min    4.843372e-28     0.001327     0.005325     0.002272\n",
      "25%    5.039167e-05     0.020409     0.155179     0.273727\n",
      "50%    3.071888e-02     0.028397     0.283240     0.448481\n",
      "75%    3.192087e-01     0.036473     0.496332     0.607476\n",
      "max    8.397208e-01     0.080191     0.995338     0.974470\n",
      "Market share for Walking: 16.9% [15.3%, 18.7%]\n",
      "Market share for Cycling: 2.9% [2.1%, 3.8%]\n",
      "Market share for Public transportation: 36.2% [32.6%, 47.5%]\n",
      "Market share for Car: 44.0% [33.5%, 48.0%]\n"
     ]
    }
   ],
   "source": [
    "market_shares_base = market_share(V_3, results_nested)\n",
    "for alternative, indicator in market_shares_base.items():\n",
    "    print(\n",
    "        f'Market share for {alternative}: {100*indicator.value:.1f}% '\n",
    "        f'[{100*indicator.lower:.1f}%, '\n",
    "        f'{100*indicator.upper:.1f}%]'\n",
    "    )"
   ]
  }
 ],
 "metadata": {
  "kernelspec": {
   "display_name": "24env",
   "language": "python",
   "name": "python3"
  },
  "language_info": {
   "codemirror_mode": {
    "name": "ipython",
    "version": 3
   },
   "file_extension": ".py",
   "mimetype": "text/x-python",
   "name": "python",
   "nbconvert_exporter": "python",
   "pygments_lexer": "ipython3",
   "version": "3.12.5"
  }
 },
 "nbformat": 4,
 "nbformat_minor": 4
}
