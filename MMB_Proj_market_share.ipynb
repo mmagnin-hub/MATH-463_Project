{
 "cells": [
  {
   "cell_type": "markdown",
   "metadata": {},
   "source": [
    "# Project Market Share"
   ]
  },
  {
   "cell_type": "markdown",
   "metadata": {},
   "source": [
    "## Imports"
   ]
  },
  {
   "cell_type": "code",
   "execution_count": 2,
   "metadata": {},
   "outputs": [
    {
     "name": "stdout",
     "output_type": "stream",
     "text": [
      "Sample segments: {'female_44_less': np.int64(1631), 'female_45_more': np.int64(1034), 'male_44_less': np.int64(1451), 'male_45_more': np.int64(884)}\n",
      "Sample size: 5000\n",
      "Weights: {'female_44_less': np.float64(1.005031010413465), 'female_45_more': np.float64(0.8480333014252863), 'male_44_less': np.float64(1.1635155138048476), 'male_45_more': np.float64(0.9000757667545914)}\n",
      "Sum of the weights: 5000.0\n"
     ]
    }
   ],
   "source": [
    "# utils\n",
    "from utils.market_share import *\n",
    "\n",
    "from typing import Dict, List, Any\n",
    "import pickle\n",
    "from tqdm import tqdm "
   ]
  },
  {
   "cell_type": "markdown",
   "metadata": {},
   "source": [
    "## Calculate market shares"
   ]
  },
  {
   "cell_type": "code",
   "execution_count": 10,
   "metadata": {},
   "outputs": [
    {
     "name": "stderr",
     "output_type": "stream",
     "text": [
      "  0%|          | 0/5 [00:00<?, ?it/s]"
     ]
    },
    {
     "name": "stdout",
     "output_type": "stream",
     "text": [
      "         Prob. walk  Prob. cycle      Prob. PT    Prob. car\n",
      "count  5.000000e+03  5000.000000  5.000000e+03  5000.000000\n",
      "mean   1.704001e-01     0.029200  3.574000e-01     0.443000\n",
      "std    1.629612e-01     0.018439  1.821333e-01     0.220800\n",
      "min    1.903461e-13     0.000043  9.526819e-07     0.002286\n",
      "25%    8.750002e-03     0.019479  2.575017e-01     0.278642\n",
      "50%    1.257326e-01     0.025677  3.302956e-01     0.401025\n",
      "75%    3.145519e-01     0.033997  4.215278e-01     0.594204\n",
      "max    6.333856e-01     0.250870  9.970501e-01     0.999367\n"
     ]
    },
    {
     "name": "stderr",
     "output_type": "stream",
     "text": [
      " 20%|██        | 1/5 [01:48<07:12, 108.22s/it]"
     ]
    },
    {
     "name": "stdout",
     "output_type": "stream",
     "text": [
      "         Prob. walk   Prob. cycle     Prob. PT    Prob. car\n",
      "count  5.000000e+03  5.000000e+03  5000.000000  5000.000000\n",
      "mean   1.704008e-01  2.919996e-02     0.357400     0.443000\n",
      "std    2.270605e-01  1.660377e-02     0.238669     0.213765\n",
      "min    2.174021e-26  5.122602e-07     0.000627     0.000161\n",
      "25%    8.570957e-05  1.832766e-02     0.185888     0.284840\n",
      "50%    3.310869e-02  2.910390e-02     0.286574     0.464464\n",
      "75%    3.151704e-01  3.868107e-02     0.441198     0.600420\n",
      "max    8.677694e-01  1.640226e-01     0.999810     0.999295\n"
     ]
    },
    {
     "name": "stderr",
     "output_type": "stream",
     "text": [
      " 40%|████      | 2/5 [03:18<04:53, 97.90s/it] "
     ]
    },
    {
     "name": "stdout",
     "output_type": "stream",
     "text": [
      "         Prob. walk   Prob. cycle     Prob. PT    Prob. car\n",
      "count  5.000000e+03  5.000000e+03  5000.000000  5000.000000\n",
      "mean   1.703993e-01  2.920025e-02     0.357392     0.443009\n",
      "std    2.279146e-01  1.801238e-02     0.241310     0.221874\n",
      "min    7.812762e-28  3.447750e-09     0.000791     0.000261\n",
      "25%    9.163455e-05  1.758907e-02     0.180924     0.277342\n",
      "50%    3.273473e-02  2.851475e-02     0.285892     0.460267\n",
      "75%    3.104299e-01  3.900590e-02     0.448534     0.601886\n",
      "max    8.739168e-01  1.529539e-01     0.999597     0.998956\n"
     ]
    },
    {
     "name": "stderr",
     "output_type": "stream",
     "text": [
      " 60%|██████    | 3/5 [04:47<03:07, 93.77s/it]"
     ]
    },
    {
     "name": "stdout",
     "output_type": "stream",
     "text": [
      "         Prob. walk  Prob. cycle     Prob. PT    Prob. car\n",
      "count  5.000000e+03  5000.000000  5000.000000  5000.000000\n",
      "mean   1.704009e-01     0.029201     0.357401     0.442998\n",
      "std    2.292483e-01     0.017832     0.245960     0.218750\n",
      "min    1.155219e-30     0.000046     0.007444     0.001268\n",
      "25%    2.714156e-05     0.017530     0.166425     0.280431\n",
      "50%    2.740173e-02     0.026994     0.284779     0.457531\n",
      "75%    3.187701e-01     0.038115     0.474462     0.606570\n",
      "max    8.955295e-01     0.157479     0.998519     0.990473\n"
     ]
    },
    {
     "name": "stderr",
     "output_type": "stream",
     "text": [
      " 80%|████████  | 4/5 [06:09<01:28, 88.90s/it]"
     ]
    },
    {
     "name": "stdout",
     "output_type": "stream",
     "text": [
      "         Prob. walk  Prob. cycle     Prob. PT    Prob. car\n",
      "count  5.000000e+03  5000.000000  5000.000000  5000.000000\n",
      "mean   1.703815e-01     0.029206     0.358771     0.441642\n",
      "std    2.261562e-01     0.013183     0.254056     0.222394\n",
      "min    5.824013e-28     0.001408     0.005301     0.002324\n",
      "25%    5.130373e-05     0.020531     0.155238     0.273868\n",
      "50%    3.075383e-02     0.028423     0.283894     0.448525\n",
      "75%    3.195024e-01     0.036441     0.497140     0.607193\n",
      "max    8.393298e-01     0.079564     0.995172     0.974367\n"
     ]
    },
    {
     "name": "stderr",
     "output_type": "stream",
     "text": [
      "100%|██████████| 5/5 [07:36<00:00, 91.32s/it]"
     ]
    },
    {
     "name": "stdout",
     "output_type": "stream",
     "text": [
      "Market shares calculated and saved in market_shares.pickle\n"
     ]
    },
    {
     "name": "stderr",
     "output_type": "stream",
     "text": [
      "\n"
     ]
    }
   ],
   "source": [
    "# create a dict best practice \n",
    "model_market_share: Dict[str, List] = {\n",
    "    \"Model 0\" : [V_0, res_mod0, None, False],\n",
    "    \"Model 1\" : [V_1, res_mod1, None, False],\n",
    "    \"Model 2\" : [V_2, res_mod2, None, False],\n",
    "    \"Model 3\" : [V_3, res_mod3, None, False],\n",
    "    \"Model 4\" : [V_3, results_nested, biogeme_nested, True]\n",
    "}\n",
    "file_name = 'market_shares.pickle'\n",
    "try:\n",
    "    with open(file_name, 'rb') as f:\n",
    "        all_market_shares = pickle.load(f)\n",
    "        print(f'Market shares read from {file_name}')\n",
    "except FileNotFoundError:\n",
    "    # If the file is not found, calculate the market shares for each model\n",
    "    all_market_shares: Dict[str, Any] = {\n",
    "        model: market_share(utilities, results, model_biogeme, is_nested) \n",
    "        for model, (utilities, results, model_biogeme, is_nested) in tqdm(model_market_share.items())\n",
    "    }\n",
    "    # Save the calculated market shares to the pickle file\n",
    "    with open(file_name, 'wb') as f:\n",
    "        pickle.dump(all_market_shares, f)\n",
    "    print(f'Market shares calculated and saved in {file_name}')\n",
    "\n"
   ]
  },
  {
   "cell_type": "code",
   "execution_count": 11,
   "metadata": {},
   "outputs": [
    {
     "name": "stdout",
     "output_type": "stream",
     "text": [
      "dict_keys(['Model 0', 'Model 1', 'Model 2', 'Model 3', 'Model 4'])\n"
     ]
    }
   ],
   "source": [
    "print(all_market_shares.keys())"
   ]
  },
  {
   "cell_type": "code",
   "execution_count": 12,
   "metadata": {},
   "outputs": [
    {
     "name": "stdout",
     "output_type": "stream",
     "text": [
      "{'Walking': IndicatorTuple(value=np.float64(0.16923833328461266), lower=np.float64(0.14825612698868781), upper=np.float64(0.19654272024315012)), 'Cycling': IndicatorTuple(value=np.float64(0.029198246016707174), lower=np.float64(0.019326860948842853), upper=np.float64(0.03746959589140873)), 'Public transportation': IndicatorTuple(value=np.float64(0.36194918032624634), lower=np.float64(0.306960131153563), upper=np.float64(0.5041594537996564)), 'Car': IndicatorTuple(value=np.float64(0.43961424037243385), lower=np.float64(0.26936151548991366), upper=np.float64(0.49812574557896366))}\n"
     ]
    }
   ],
   "source": [
    "print(all_market_shares[\"Model 4\"])"
   ]
  },
  {
   "cell_type": "code",
   "execution_count": null,
   "metadata": {},
   "outputs": [],
   "source": []
  }
 ],
 "metadata": {
  "kernelspec": {
   "display_name": "24env",
   "language": "python",
   "name": "python3"
  },
  "language_info": {
   "codemirror_mode": {
    "name": "ipython",
    "version": 3
   },
   "file_extension": ".py",
   "mimetype": "text/x-python",
   "name": "python",
   "nbconvert_exporter": "python",
   "pygments_lexer": "ipython3",
   "version": "3.12.5"
  }
 },
 "nbformat": 4,
 "nbformat_minor": 4
}
