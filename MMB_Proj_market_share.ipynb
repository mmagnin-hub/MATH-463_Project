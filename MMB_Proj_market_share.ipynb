{
 "cells": [
  {
   "cell_type": "markdown",
   "metadata": {},
   "source": [
    "# Project Market Share"
   ]
  },
  {
   "cell_type": "markdown",
   "metadata": {},
   "source": [
    "## Imports"
   ]
  },
  {
   "cell_type": "code",
   "execution_count": 27,
   "metadata": {},
   "outputs": [],
   "source": [
    "# utils\n",
    "from utils.market_share import *\n",
    "\n",
    "from typing import Dict, List, Any\n",
    "import pickle\n",
    "from tqdm import tqdm "
   ]
  },
  {
   "cell_type": "markdown",
   "metadata": {},
   "source": [
    "## Calculate market shares"
   ]
  },
  {
   "cell_type": "code",
   "execution_count": 28,
   "metadata": {},
   "outputs": [
    {
     "name": "stdout",
     "output_type": "stream",
     "text": [
      "Market shares read from market_shares.pickle\n"
     ]
    }
   ],
   "source": [
    "# create a dict best practice \n",
    "model_market_share: Dict[str, List] = {\n",
    "    \"Model 0\" : [V_0, res_mod0],\n",
    "    \"Model 1\" : [V_1, res_mod1],\n",
    "    \"Model 2\" : [V_2, res_mod2],\n",
    "    \"Model 3\" : [V_3, res_mod3],\n",
    "    \"Model 4\" : [V_3, results_nested]\n",
    "}\n",
    "file_name = 'market_shares.pickle'\n",
    "try:\n",
    "    with open(file_name, 'rb') as f:\n",
    "        all_market_shares = pickle.load(f)\n",
    "        print(f'Market shares read from {file_name}')\n",
    "except FileNotFoundError:\n",
    "    # If the file is not found, calculate the market shares for each model\n",
    "    all_market_shares: Dict[str, Any] = {\n",
    "        model: market_share(utilities, results) \n",
    "        for model, (utilities, results) in tqdm(model_market_share.items())\n",
    "    }\n",
    "    # Save the calculated market shares to the pickle file\n",
    "    with open(file_name, 'wb') as f:\n",
    "        pickle.dump(all_market_shares, f)\n",
    "    print(f'Market shares calculated and saved in {file_name}')\n",
    "\n"
   ]
  },
  {
   "cell_type": "code",
   "execution_count": null,
   "metadata": {},
   "outputs": [],
   "source": []
  }
 ],
 "metadata": {
  "kernelspec": {
   "display_name": "24env",
   "language": "python",
   "name": "python3"
  },
  "language_info": {
   "codemirror_mode": {
    "name": "ipython",
    "version": 3
   },
   "file_extension": ".py",
   "mimetype": "text/x-python",
   "name": "python",
   "nbconvert_exporter": "python",
   "pygments_lexer": "ipython3",
   "version": "3.12.5"
  }
 },
 "nbformat": 4,
 "nbformat_minor": 4
}
