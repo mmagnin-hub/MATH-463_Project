{
 "cells": [
  {
   "cell_type": "markdown",
   "metadata": {},
   "source": [
    "# Project Market Share"
   ]
  },
  {
   "cell_type": "markdown",
   "metadata": {},
   "source": [
    "## Imports"
   ]
  },
  {
   "cell_type": "code",
   "execution_count": 1,
   "metadata": {},
   "outputs": [
    {
     "name": "stdout",
     "output_type": "stream",
     "text": [
      "Sample segments: {'female_44_less': np.int64(1631), 'female_45_more': np.int64(1034), 'male_44_less': np.int64(1451), 'male_45_more': np.int64(884)}\n",
      "Sample size: 5000\n",
      "Weights: {'female_44_less': np.float64(1.005031010413465), 'female_45_more': np.float64(0.8480333014252863), 'male_44_less': np.float64(1.1635155138048476), 'male_45_more': np.float64(0.9000757667545914)}\n",
      "Sum of the weights: 5000.0\n"
     ]
    }
   ],
   "source": [
    "# utils\n",
    "from utils.market_share import *\n",
    "\n",
    "from typing import Dict, List, Any\n",
    "import pickle\n",
    "from tqdm import tqdm "
   ]
  },
  {
   "cell_type": "markdown",
   "metadata": {},
   "source": [
    "## Calculate market shares"
   ]
  },
  {
   "cell_type": "code",
   "execution_count": 2,
   "metadata": {},
   "outputs": [
    {
     "name": "stderr",
     "output_type": "stream",
     "text": [
      "  0%|          | 0/5 [00:00<?, ?it/s]"
     ]
    },
    {
     "name": "stdout",
     "output_type": "stream",
     "text": [
      "         Prob. walk  Prob. cycle      Prob. PT    Prob. car\n",
      "count  5.000000e+03  5000.000000  5.000000e+03  5000.000000\n",
      "mean   1.704001e-01     0.029200  3.574000e-01     0.443000\n",
      "std    1.629612e-01     0.018439  1.821333e-01     0.220800\n",
      "min    1.903461e-13     0.000043  9.526819e-07     0.002286\n",
      "25%    8.750002e-03     0.019479  2.575017e-01     0.278642\n",
      "50%    1.257326e-01     0.025677  3.302956e-01     0.401025\n",
      "75%    3.145519e-01     0.033997  4.215278e-01     0.594204\n",
      "max    6.333856e-01     0.250870  9.970501e-01     0.999367\n"
     ]
    },
    {
     "name": "stderr",
     "output_type": "stream",
     "text": [
      " 20%|██        | 1/5 [01:00<04:03, 60.96s/it]"
     ]
    },
    {
     "name": "stdout",
     "output_type": "stream",
     "text": [
      "         Prob. walk   Prob. cycle     Prob. PT    Prob. car\n",
      "count  5.000000e+03  5.000000e+03  5000.000000  5000.000000\n",
      "mean   1.704008e-01  2.919996e-02     0.357400     0.443000\n",
      "std    2.270605e-01  1.660377e-02     0.238669     0.213765\n",
      "min    2.174021e-26  5.122602e-07     0.000627     0.000161\n",
      "25%    8.570957e-05  1.832766e-02     0.185888     0.284840\n",
      "50%    3.310869e-02  2.910390e-02     0.286574     0.464464\n",
      "75%    3.151704e-01  3.868107e-02     0.441198     0.600420\n",
      "max    8.677694e-01  1.640226e-01     0.999810     0.999295\n"
     ]
    },
    {
     "name": "stderr",
     "output_type": "stream",
     "text": [
      " 40%|████      | 2/5 [02:04<03:06, 62.19s/it]"
     ]
    },
    {
     "name": "stdout",
     "output_type": "stream",
     "text": [
      "         Prob. walk   Prob. cycle     Prob. PT    Prob. car\n",
      "count  5.000000e+03  5.000000e+03  5000.000000  5000.000000\n",
      "mean   1.703993e-01  2.920025e-02     0.357392     0.443009\n",
      "std    2.279146e-01  1.801238e-02     0.241310     0.221874\n",
      "min    7.812762e-28  3.447750e-09     0.000791     0.000261\n",
      "25%    9.163455e-05  1.758907e-02     0.180924     0.277342\n",
      "50%    3.273473e-02  2.851475e-02     0.285892     0.460267\n",
      "75%    3.104299e-01  3.900590e-02     0.448534     0.601886\n",
      "max    8.739168e-01  1.529539e-01     0.999597     0.998956\n"
     ]
    },
    {
     "name": "stderr",
     "output_type": "stream",
     "text": [
      " 60%|██████    | 3/5 [03:14<02:11, 65.86s/it]"
     ]
    },
    {
     "name": "stdout",
     "output_type": "stream",
     "text": [
      "         Prob. walk  Prob. cycle     Prob. PT    Prob. car\n",
      "count  5.000000e+03  5000.000000  5000.000000  5000.000000\n",
      "mean   1.704009e-01     0.029201     0.357401     0.442998\n",
      "std    2.292483e-01     0.017832     0.245960     0.218750\n",
      "min    1.155219e-30     0.000046     0.007444     0.001268\n",
      "25%    2.714156e-05     0.017530     0.166425     0.280431\n",
      "50%    2.740173e-02     0.026994     0.284779     0.457531\n",
      "75%    3.187701e-01     0.038115     0.474462     0.606570\n",
      "max    8.955295e-01     0.157479     0.998519     0.990473\n"
     ]
    },
    {
     "name": "stderr",
     "output_type": "stream",
     "text": [
      " 80%|████████  | 4/5 [04:23<01:07, 67.11s/it]"
     ]
    },
    {
     "name": "stdout",
     "output_type": "stream",
     "text": [
      "         Prob. walk  Prob. cycle     Prob. PT    Prob. car\n",
      "count  5.000000e+03  5000.000000  5000.000000  5000.000000\n",
      "mean   1.704053e-01     0.029198     0.358718     0.441679\n",
      "std    2.262141e-01     0.013285     0.254006     0.222438\n",
      "min    4.843372e-28     0.001327     0.005325     0.002272\n",
      "25%    5.039167e-05     0.020409     0.155179     0.273727\n",
      "50%    3.071888e-02     0.028397     0.283240     0.448481\n",
      "75%    3.192087e-01     0.036473     0.496332     0.607476\n",
      "max    8.397208e-01     0.080191     0.995338     0.974470\n"
     ]
    },
    {
     "name": "stderr",
     "output_type": "stream",
     "text": [
      "100%|██████████| 5/5 [05:43<00:00, 68.66s/it]"
     ]
    },
    {
     "name": "stdout",
     "output_type": "stream",
     "text": [
      "Market shares calculated and saved in market_shares.pickle\n"
     ]
    },
    {
     "name": "stderr",
     "output_type": "stream",
     "text": [
      "\n"
     ]
    }
   ],
   "source": [
    "# create a dict best practice \n",
    "model_market_share: Dict[str, List] = {\n",
    "    \"Model 0\" : [V_0, res_mod0, None, False],\n",
    "    \"Model 1\" : [V_1, res_mod1, None, False],\n",
    "    \"Model 2\" : [V_2, res_mod2, None, False],\n",
    "    \"Model 3\" : [V_3, res_mod3, None, False],\n",
    "    \"Model 4\" : [V_3, results_nested, biogeme_nested, True]\n",
    "}\n",
    "file_name = 'market_shares.pickle'\n",
    "try:\n",
    "    with open(file_name, 'rb') as f:\n",
    "        all_market_shares = pickle.load(f)\n",
    "        print(f'Market shares read from {file_name}')\n",
    "except FileNotFoundError:\n",
    "    # If the file is not found, calculate the market shares for each model\n",
    "    all_market_shares: Dict[str, Any] = {\n",
    "        model: market_share(utilities, results, model_biogeme, is_nested) \n",
    "        for model, (utilities, results, model_biogeme, is_nested) in tqdm(model_market_share.items())\n",
    "    }\n",
    "    # Save the calculated market shares to the pickle file\n",
    "    with open(file_name, 'wb') as f:\n",
    "        pickle.dump(all_market_shares, f)\n",
    "    print(f'Market shares calculated and saved in {file_name}')\n",
    "\n"
   ]
  },
  {
   "cell_type": "code",
   "execution_count": 3,
   "metadata": {},
   "outputs": [
    {
     "name": "stdout",
     "output_type": "stream",
     "text": [
      "dict_keys(['Model 0', 'Model 1', 'Model 2', 'Model 3', 'Model 4'])\n"
     ]
    }
   ],
   "source": [
    "print(all_market_shares.keys())"
   ]
  },
  {
   "cell_type": "code",
   "execution_count": 4,
   "metadata": {},
   "outputs": [
    {
     "name": "stdout",
     "output_type": "stream",
     "text": [
      "{'Walking': IndicatorTuple(value=np.float64(0.16935243307249462), lower=np.float64(0.1599328760105841), upper=np.float64(0.1776773503878678)), 'Cycling': IndicatorTuple(value=np.float64(0.029289763131547717), lower=np.float64(0.026345566251124428), upper=np.float64(0.03237782973253703)), 'Public transportation': IndicatorTuple(value=np.float64(0.35834388719484866), lower=np.float64(0.34439408918920733), upper=np.float64(0.37305208691953284)), 'Car': IndicatorTuple(value=np.float64(0.443013916601109), lower=np.float64(0.4274760102996015), upper=np.float64(0.459206776913624))}\n",
      "{'Walking': IndicatorTuple(value=np.float64(0.169125053350366), lower=np.float64(0.15881815951294362), upper=np.float64(0.1793852533931435)), 'Cycling': IndicatorTuple(value=np.float64(0.02917429367354091), lower=np.float64(0.023957860043166943), upper=np.float64(0.03601133355416872)), 'Public transportation': IndicatorTuple(value=np.float64(0.3598359886571484), lower=np.float64(0.3406186316941818), upper=np.float64(0.379731378879872)), 'Car': IndicatorTuple(value=np.float64(0.4418646643189448), lower=np.float64(0.42153549314218564), upper=np.float64(0.46280229430681336))}\n",
      "{'Walking': IndicatorTuple(value=np.float64(0.16926746359861095), lower=np.float64(0.1572213472644363), upper=np.float64(0.1818684303175475)), 'Cycling': IndicatorTuple(value=np.float64(0.029241795287784395), lower=np.float64(0.023409365563245844), upper=np.float64(0.03725216914544561)), 'Public transportation': IndicatorTuple(value=np.float64(0.3601885781536454), lower=np.float64(0.337230296790561), upper=np.float64(0.3832271168369859)), 'Car': IndicatorTuple(value=np.float64(0.44130216295995933), lower=np.float64(0.4161363501605692), upper=np.float64(0.46611167170105017))}\n",
      "{'Walking': IndicatorTuple(value=np.float64(0.16939395304953003), lower=np.float64(0.1558165114024918), upper=np.float64(0.18396517755834127)), 'Cycling': IndicatorTuple(value=np.float64(0.02921701007419723), lower=np.float64(0.023239757349827375), upper=np.float64(0.03717806794410061)), 'Public transportation': IndicatorTuple(value=np.float64(0.3603336066230304), lower=np.float64(0.3393289339283961), upper=np.float64(0.3833751552990336)), 'Car': IndicatorTuple(value=np.float64(0.4410554302532424), lower=np.float64(0.41395406538792995), upper=np.float64(0.46525488413306104))}\n",
      "{'Walking': IndicatorTuple(value=np.float64(0.16926692227752185), lower=np.float64(0.15050881225476376), upper=np.float64(0.18586526484715155)), 'Cycling': IndicatorTuple(value=np.float64(0.02919112349750728), lower=np.float64(0.021028016707178503), upper=np.float64(0.03517845383746917)), 'Public transportation': IndicatorTuple(value=np.float64(0.361891207822671), lower=np.float64(0.32526059780852956), upper=np.float64(0.4692780768514787)), 'Car': IndicatorTuple(value=np.float64(0.43965074640229995), lower=np.float64(0.3430271965119688), upper=np.float64(0.482407292232034))}\n"
     ]
    }
   ],
   "source": [
    "print(all_market_shares[\"Model 0\"])\n",
    "print(all_market_shares[\"Model 1\"])\n",
    "print(all_market_shares[\"Model 2\"])\n",
    "print(all_market_shares[\"Model 3\"])\n",
    "print(all_market_shares[\"Model 4\"])"
   ]
  },
  {
   "cell_type": "code",
   "execution_count": null,
   "metadata": {},
   "outputs": [],
   "source": []
  }
 ],
 "metadata": {
  "kernelspec": {
   "display_name": "24env",
   "language": "python",
   "name": "python3"
  },
  "language_info": {
   "codemirror_mode": {
    "name": "ipython",
    "version": 3
   },
   "file_extension": ".py",
   "mimetype": "text/x-python",
   "name": "python",
   "nbconvert_exporter": "python",
   "pygments_lexer": "ipython3",
   "version": "3.12.5"
  }
 },
 "nbformat": 4,
 "nbformat_minor": 4
}
