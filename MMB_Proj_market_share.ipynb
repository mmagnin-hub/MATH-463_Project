{
 "cells": [
  {
   "cell_type": "markdown",
   "metadata": {},
   "source": [
    "# Project Market Share"
   ]
  },
  {
   "cell_type": "markdown",
   "metadata": {},
   "source": [
    "## Imports"
   ]
  },
  {
   "cell_type": "code",
   "execution_count": 1,
   "metadata": {},
   "outputs": [],
   "source": [
    "import pandas as pd\n",
    "from typing import NamedTuple\n",
    "\n",
    "# Biogeme \n",
    "import biogeme.database as db\n",
    "from biogeme.biogeme import BIOGEME\n",
    "from biogeme.expressions import Expression\n",
    "from biogeme.expressions import Variable\n",
    "\n",
    "\n",
    "# models\n",
    "from models.logit_lmpc12_model0 import V_0, logprob_0, biogeme_0, results as res_mod0\n",
    "from models.logit_lmpc12_model1 import V_1, logprob_1, biogeme_1, results as res_mod1\n",
    "from models.logit_lmpc12_model2 import V_2, logprob_2, biogeme_2, results as res_mod2\n",
    "from models.logit_lmpc12_model3 import V_3, logprob_3, biogeme_3, results as res_mod3\n",
    "from models.logit_lmpc12_model4 import results_nested, lognested, biogeme_nested, nests\n",
    "\n"
   ]
  },
  {
   "cell_type": "markdown",
   "metadata": {},
   "source": [
    "## Calculate Weights"
   ]
  },
  {
   "cell_type": "code",
   "execution_count": 2,
   "metadata": {},
   "outputs": [
    {
     "name": "stdout",
     "output_type": "stream",
     "text": [
      "Size of the population: 8_666_930\n",
      "Sample segments: {'female_44_less': np.int64(1631), 'female_45_more': np.int64(1034), 'male_44_less': np.int64(1451), 'male_45_more': np.int64(884)}\n",
      "Sample size: 5000\n",
      "Weights: {'female_44_less': np.float64(1.005031010413465), 'female_45_more': np.float64(0.8480333014252863), 'male_44_less': np.float64(1.1635155138048476), 'male_45_more': np.float64(0.9000757667545914)}\n",
      "Sum of the weights: 5000.0\n"
     ]
    }
   ],
   "source": [
    "# Define population sizes for each stratum\n",
    "census = {\n",
    "    'female_44_less': 2841376,\n",
    "    'female_45_more': 1519948,\n",
    "    'male_44_less': 2926408,\n",
    "    'male_45_more': 1379198,\n",
    "}\n",
    "\n",
    "# Total population size\n",
    "population_size = sum(census.values())\n",
    "print(f'Size of the population: {population_size:_}')\n",
    "\n",
    "# Load the dataset\n",
    "file_path = 'lpmc12.dat'\n",
    "df = pd.read_csv('models/lpmc12.dat', sep='\\t')\n",
    "\n",
    "# Define filters for each stratum\n",
    "filters = {\n",
    "    'female_44_less': (df['female'] == 1) & (df['age'] <= 44),\n",
    "    'female_45_more': (df['female'] == 1) & (df['age'] > 44),\n",
    "    'male_44_less': (df['female'] == 0) & (df['age'] <= 44),\n",
    "    'male_45_more': (df['female'] == 0) & (df['age'] > 44),\n",
    "}\n",
    "\n",
    "# Count the sample size in each stratum\n",
    "sample_segments = {\n",
    "    segment_name: segment_rows.sum() for segment_name, segment_rows in filters.items()\n",
    "}\n",
    "print(f'Sample segments: {sample_segments}')\n",
    "\n",
    "# Total sample size\n",
    "total_sample = sum(sample_segments.values())\n",
    "print(f'Sample size: {total_sample}')\n",
    "\n",
    "# Calculate weights\n",
    "weights = {\n",
    "    segment_name: census[segment_name] * total_sample / (segment_size * population_size)\n",
    "    for segment_name, segment_size in sample_segments.items()\n",
    "}\n",
    "print(f'Weights: {weights}')\n",
    "\n",
    "# Apply weights to the dataset\n",
    "df['weight'] = 0.0\n",
    "for segment_name, segment_rows in filters.items():\n",
    "    df.loc[segment_rows, 'weight'] = weights[segment_name]\n",
    "\n",
    "weight = Variable('weight')\n",
    "\n",
    "# Verify sum of weights\n",
    "sum_weights = df['weight'].sum()\n",
    "print(f'Sum of the weights: {sum_weights}')"
   ]
  },
  {
   "cell_type": "markdown",
   "metadata": {},
   "source": [
    "## Function"
   ]
  },
  {
   "cell_type": "code",
   "execution_count": 3,
   "metadata": {},
   "outputs": [],
   "source": [
    "class IndicatorTuple(NamedTuple):\n",
    "    \"\"\"Tuple storing the value of an indicator, and the bounds on its confidence interval.\"\"\"\n",
    "\n",
    "    value: float\n",
    "    lower: float\n",
    "    upper: float"
   ]
  },
  {
   "cell_type": "code",
   "execution_count": 4,
   "metadata": {},
   "outputs": [],
   "source": [
    "def market_share(utilities: dict[int, Expression]) -> dict[str, IndicatorTuple]:\n",
    "    \"\"\"Calculate the market shares of all alternatives, given the\n",
    "    specification of the utility functions.\n",
    "\n",
    "    :param utilities: Specification of the utility functions. It is a\n",
    "        dict where the keys are the IDs of the alternatives, and the\n",
    "        values are the expressions of the utility functions.\n",
    "\n",
    "    :return: A dictionary where each entry corresponds to an\n",
    "        alternative, and associates its name with the IndicatorTuple\n",
    "        containing the value of the market share, and the lower and\n",
    "        upper bounds of the 90% confidence interval.\n",
    "    \"\"\"\n",
    "\n",
    "    prob_walk = lognested(utilities, None, nests, 1)\n",
    "    prob_cycle = lognested(utilities, None, nests, 2)\n",
    "    prob_pt = lognested(utilities, None, nests, 3)\n",
    "    prob_car = lognested(utilities, None, nests, 4)\n",
    "\n",
    "    # Simulation setup\n",
    "    simulate = {\n",
    "        'weight': weight,  # Assuming normalized weights are provided\n",
    "        'Prob. walk': prob_walk,\n",
    "        'Prob. cycle': prob_cycle,\n",
    "        'Prob. PT': prob_pt,\n",
    "        'Prob. car': prob_car,\n",
    "    }\n",
    "    \n",
    "    # Creating Biogeme object\n",
    "    database = db.Database('lpmc12', df)\n",
    "    biosim = BIOGEME(database, simulate)\n",
    "    simulated_values = biosim.simulate(results_nested.get_beta_values())\n",
    "    \n",
    "    print(simulated_values[['Prob. walk', 'Prob. cycle', 'Prob. PT', 'Prob. car']].describe())\n",
    "\n",
    "    #À checker\n",
    "    #print(simulated_values['weight'].describe())\n",
    "\n",
    "    #simulated_values['Utility.walk'] = V[1]\n",
    "    #simulated_values['Utility.cycle'] = V[2]\n",
    "    #simulated_values['Utility.PT'] = V[3]\n",
    "    #simulated_values['Utility.car'] = V[4]\n",
    "\n",
    "    # Confidence intervals\n",
    "    betas = biogeme_nested.free_beta_names\n",
    "    sensitivity_betas = results_nested.get_betas_for_sensitivity_analysis(\n",
    "        betas, use_bootstrap=False\n",
    "    )\n",
    "    left, right = biosim.confidence_intervals(sensitivity_betas, 0.9)\n",
    "\n",
    "    # Initialize market shares\n",
    "    market_shares = {}\n",
    "\n",
    "    # Iterate through alternatives\n",
    "    for alt_name, prob_name in [\n",
    "        (\"Walking\", \"Prob. walk\"),\n",
    "        (\"Cycling\", \"Prob. cycle\"),\n",
    "        (\"Public transportation\", \"Prob. PT\"),\n",
    "        (\"Car\", \"Prob. car\"),\n",
    "    ]:\n",
    "        weighted_name = f\"Weighted choice_prob. {alt_name.lower()}\"\n",
    "\n",
    "        # Calculate weighted probabilities\n",
    "        simulated_values[weighted_name] = (\n",
    "            simulated_values[\"weight\"] * simulated_values[prob_name]\n",
    "        )\n",
    "        left[weighted_name] = left[\"weight\"] * left[prob_name]\n",
    "        right[weighted_name] = right[\"weight\"] * right[prob_name]\n",
    "\n",
    "        # Calculate mean values and bounds\n",
    "        market_share_value = simulated_values[weighted_name].mean()\n",
    "        market_share_lower = left[weighted_name].mean()\n",
    "        market_share_upper = right[weighted_name].mean()\n",
    "\n",
    "        # Store results in the market shares dictionary\n",
    "        market_shares[alt_name] = IndicatorTuple(\n",
    "            value=market_share_value,\n",
    "            lower=market_share_lower,\n",
    "            upper=market_share_upper,\n",
    "        )\n",
    "\n",
    "    return market_shares"
   ]
  },
  {
   "cell_type": "markdown",
   "metadata": {},
   "source": [
    "## Calculate market shares"
   ]
  },
  {
   "cell_type": "code",
   "execution_count": 5,
   "metadata": {},
   "outputs": [
    {
     "name": "stdout",
     "output_type": "stream",
     "text": [
      "        Prob. walk  Prob. cycle     Prob. PT    Prob. car\n",
      "count  5000.000000  5000.000000  5000.000000  5000.000000\n",
      "mean     -7.207633    -3.660821    -1.294333    -1.028046\n",
      "std       8.990249     0.552830     0.770301     0.788695\n",
      "min     -62.894771    -6.624581    -5.235362    -6.087109\n",
      "25%      -9.895724    -3.891758    -1.863178    -1.295625\n",
      "50%      -3.482878    -3.561487    -1.261460    -0.801890\n",
      "75%      -1.141910    -3.311195    -0.700510    -0.498442\n",
      "max      -0.174686    -2.523339    -0.004673    -0.025862\n",
      "Market share for Walking: -729.2% [-831.3%, -623.7%]\n",
      "Market share for Cycling: -366.3% [-406.3%, -342.5%]\n",
      "Market share for Public transportation: -128.5% [-138.3%, -79.4%]\n",
      "Market share for Car: -103.5% [-138.0%, -79.3%]\n"
     ]
    }
   ],
   "source": [
    "market_shares_base = market_share(V_3)\n",
    "for alternative, indicator in market_shares_base.items():\n",
    "    print(\n",
    "        f'Market share for {alternative}: {100*indicator.value:.1f}% '\n",
    "        f'[{100*indicator.lower:.1f}%, '\n",
    "        f'{100*indicator.upper:.1f}%]'\n",
    "    )"
   ]
  }
 ],
 "metadata": {
  "kernelspec": {
   "display_name": "24env",
   "language": "python",
   "name": "python3"
  },
  "language_info": {
   "codemirror_mode": {
    "name": "ipython",
    "version": 3
   },
   "file_extension": ".py",
   "mimetype": "text/x-python",
   "name": "python",
   "nbconvert_exporter": "python",
   "pygments_lexer": "ipython3",
   "version": "3.12.5"
  }
 },
 "nbformat": 4,
 "nbformat_minor": 4
}
