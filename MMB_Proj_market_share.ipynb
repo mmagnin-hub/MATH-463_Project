{
 "cells": [
  {
   "cell_type": "markdown",
   "metadata": {},
   "source": [
    "# Project Market Share"
   ]
  },
  {
   "cell_type": "markdown",
   "metadata": {},
   "source": [
    "## Imports"
   ]
  },
  {
   "cell_type": "code",
   "execution_count": 12,
   "metadata": {},
   "outputs": [],
   "source": [
    "import pandas as pd\n",
    "from typing import NamedTuple\n",
    "\n",
    "# Biogeme \n",
    "import biogeme.database as db\n",
    "from biogeme.biogeme import BIOGEME\n",
    "from biogeme.expressions import Expression\n",
    "from biogeme.expressions import Variable\n",
    "from biogeme.models import loglogit, logit, nested\n",
    "\n",
    "\n",
    "# models\n",
    "from models.logit_lmpc12_model0 import V_0, logprob_0, biogeme_0, results as res_mod0, chosen_alternative\n",
    "from models.logit_lmpc12_model1 import V_1, logprob_1, biogeme_1, results as res_mod1\n",
    "from models.logit_lmpc12_model2 import V_2, logprob_2, biogeme_2, results as res_mod2\n",
    "from models.logit_lmpc12_model3 import V_3, logprob_3, biogeme_3, results as res_mod3\n",
    "from models.logit_lmpc12_model4 import results_nested, lognested, biogeme_nested, nests\n",
    "\n"
   ]
  },
  {
   "cell_type": "markdown",
   "metadata": {},
   "source": [
    "## Calculate Weights"
   ]
  },
  {
   "cell_type": "code",
   "execution_count": 2,
   "metadata": {},
   "outputs": [
    {
     "name": "stdout",
     "output_type": "stream",
     "text": [
      "Sample segments: {'female_44_less': np.int64(1631), 'female_45_more': np.int64(1034), 'male_44_less': np.int64(1451), 'male_45_more': np.int64(884)}\n",
      "Sample size: 5000\n",
      "Weights: {'female_44_less': np.float64(1.005031010413465), 'female_45_more': np.float64(0.8480333014252863), 'male_44_less': np.float64(1.1635155138048476), 'male_45_more': np.float64(0.9000757667545914)}\n",
      "Sum of the weights: 5000.0\n"
     ]
    }
   ],
   "source": [
    "# Define population sizes for each stratum\n",
    "census = {\n",
    "    'female_44_less': 2841376,\n",
    "    'female_45_more': 1519948,\n",
    "    'male_44_less': 2926408,\n",
    "    'male_45_more': 1379198,\n",
    "}\n",
    "\n",
    "# Total population size\n",
    "population_size = sum(census.values())\n",
    "\n",
    "# Load the dataset\n",
    "file_path = 'lpmc12.dat'\n",
    "df = pd.read_csv('models/lpmc12.dat', sep='\\t')\n",
    "\n",
    "# Define filters for each stratum\n",
    "filters = {\n",
    "    'female_44_less': (df['female'] == 1) & (df['age'] <= 44),\n",
    "    'female_45_more': (df['female'] == 1) & (df['age'] > 44),\n",
    "    'male_44_less': (df['female'] == 0) & (df['age'] <= 44),\n",
    "    'male_45_more': (df['female'] == 0) & (df['age'] > 44),\n",
    "}\n",
    "\n",
    "# Count the sample size in each stratum\n",
    "sample_segments = {\n",
    "    segment_name: segment_rows.sum() for segment_name, segment_rows in filters.items()\n",
    "}\n",
    "print(f'Sample segments: {sample_segments}')\n",
    "\n",
    "# Total sample size\n",
    "total_sample = sum(sample_segments.values())\n",
    "print(f'Sample size: {total_sample}')\n",
    "\n",
    "# Calculate weights\n",
    "normalizedWeight = {\n",
    "    segment_name: census[segment_name] * total_sample / (segment_size * population_size)\n",
    "    for segment_name, segment_size in sample_segments.items()\n",
    "}\n",
    "print(f'Weights: {normalizedWeight}')\n",
    "\n",
    "# Insert weights into the dataset\n",
    "for segment_name, segment_rows in filters.items():\n",
    "    df.loc[segment_rows, 'weight'] = normalizedWeight[segment_name]\n",
    "\n",
    "# Verify sum of weights\n",
    "sum_weights = df['weight'].sum()\n",
    "print(f'Sum of the weights: {sum_weights}')\n",
    "\n",
    "normalizedWeight = Variable('weight')"
   ]
  },
  {
   "cell_type": "markdown",
   "metadata": {},
   "source": [
    "## Function"
   ]
  },
  {
   "cell_type": "code",
   "execution_count": 3,
   "metadata": {},
   "outputs": [],
   "source": [
    "class IndicatorTuple(NamedTuple):\n",
    "    \"\"\"Tuple storing the value of an indicator, and the bounds on its confidence interval.\"\"\"\n",
    "\n",
    "    value: float\n",
    "    lower: float\n",
    "    upper: float"
   ]
  },
  {
   "cell_type": "code",
   "execution_count": 13,
   "metadata": {},
   "outputs": [],
   "source": [
    "database = db.Database('lpmc12', df)\n",
    "\n",
    "\n",
    "def market_share(utilities: dict[int, Expression], results) -> dict[str, IndicatorTuple]:\n",
    "    \"\"\"Calculate the market shares of all alternatives, given the\n",
    "    specification of the utility functions.\n",
    "\n",
    "    :param utilities: Specification of the utility functions. It is a\n",
    "        dict where the keys are the IDs of the alternatives, and the\n",
    "        values are the expressions of the utility functions.\n",
    "\n",
    "    :return: A dictionary where each entry corresponds to an\n",
    "        alternative, and associates its name with the IndicatorTuple\n",
    "        containing the value of the market share, and the lower and\n",
    "        upper bounds of the 90% confidence interval.\n",
    "    \"\"\"\n",
    "    if results == results_nested:\n",
    "        prob_walk = nested(utilities, None, nests, 1)\n",
    "        prob_cycle = nested(utilities, None, nests, 2)\n",
    "        prob_pt = nested(utilities, None, nests, 3)\n",
    "        prob_car = nested(utilities, None, nests, 4)\n",
    "    else:\n",
    "        prob_walk = logit(utilities, None, 1)\n",
    "        prob_cycle = logit(utilities, None, 2)\n",
    "        prob_pt = logit(utilities, None, 3)\n",
    "        prob_car = logit(utilities, None, 4)\n",
    "\n",
    "    # Simulation setup\n",
    "    simulate = {\n",
    "        'weight': normalizedWeight,  # Assuming normalized weights are provided\n",
    "        'Prob. walk': prob_walk,\n",
    "        'Prob. cycle': prob_cycle,\n",
    "        'Prob. PT': prob_pt,\n",
    "        'Prob. car': prob_car,\n",
    "    }\n",
    "    \n",
    "    # Creating Biogeme object\n",
    "    biosim = BIOGEME(database, simulate)\n",
    "    simulated_values = biosim.simulate(results.get_beta_values())\n",
    "    print(simulated_values[['Prob. walk', 'Prob. cycle', 'Prob. PT', 'Prob. car']].describe())\n",
    "    \n",
    "    # Confidence intervals\n",
    "    if results == results_nested:\n",
    "        betas = biogeme_nested.free_beta_names\n",
    "    else:\n",
    "        logprob = loglogit(utilities, None, chosen_alternative)\n",
    "        biogeme = BIOGEME(database, logprob)\n",
    "        betas = biogeme.free_beta_names\n",
    "    sensitivity_betas = results.get_betas_for_sensitivity_analysis(\n",
    "        betas, use_bootstrap=False\n",
    "    )\n",
    "    left, right = biosim.confidence_intervals(sensitivity_betas, 0.9)\n",
    "\n",
    "\n",
    "    # Initialize market shares\n",
    "    market_shares = {}\n",
    "\n",
    "    # Iterate through alternatives\n",
    "    for alt_name, prob_name in [\n",
    "        (\"Walking\", \"Prob. walk\"),\n",
    "        (\"Cycling\", \"Prob. cycle\"),\n",
    "        (\"Public transportation\", \"Prob. PT\"),\n",
    "        (\"Car\", \"Prob. car\"),\n",
    "    ]:\n",
    "        weighted_name = f\"Weighted choice_prob. {alt_name.lower()}\"\n",
    "\n",
    "        # Calculate weighted probabilities\n",
    "        simulated_values[weighted_name] = (\n",
    "            simulated_values[\"weight\"] * simulated_values[prob_name]\n",
    "        )\n",
    "        left[weighted_name] = left[\"weight\"] * left[prob_name]\n",
    "        right[weighted_name] = right[\"weight\"] * right[prob_name]\n",
    "\n",
    "        # Calculate mean values and bounds\n",
    "        market_share_value = simulated_values[weighted_name].mean()\n",
    "        market_share_lower = left[weighted_name].mean()\n",
    "        market_share_upper = right[weighted_name].mean()\n",
    "\n",
    "        # Store results in the market shares dictionary\n",
    "        market_shares[alt_name] = IndicatorTuple(\n",
    "            value=market_share_value,\n",
    "            lower=market_share_lower,\n",
    "            upper=market_share_upper,\n",
    "        )\n",
    "\n",
    "    return market_shares"
   ]
  },
  {
   "cell_type": "markdown",
   "metadata": {},
   "source": [
    "## Calculate market shares"
   ]
  },
  {
   "cell_type": "code",
   "execution_count": 11,
   "metadata": {},
   "outputs": [
    {
     "name": "stdout",
     "output_type": "stream",
     "text": [
      "         Prob. walk  Prob. cycle      Prob. PT    Prob. car\n",
      "count  5.000000e+03  5000.000000  5.000000e+03  5000.000000\n",
      "mean   1.704001e-01     0.029200  3.574000e-01     0.443000\n",
      "std    1.629612e-01     0.018439  1.821333e-01     0.220800\n",
      "min    1.903461e-13     0.000043  9.526819e-07     0.002286\n",
      "25%    8.750002e-03     0.019479  2.575017e-01     0.278642\n",
      "50%    1.257326e-01     0.025677  3.302956e-01     0.401025\n",
      "75%    3.145519e-01     0.033997  4.215278e-01     0.594204\n",
      "max    6.333856e-01     0.250870  9.970501e-01     0.999367\n",
      "Market share for Walking: 16.9% [15.9%, 17.9%]\n",
      "Market share for Cycling: 2.9% [2.5%, 3.3%]\n",
      "Market share for Public transportation: 35.8% [34.4%, 37.3%]\n",
      "Market share for Car: 44.3% [42.8%, 46.1%]\n"
     ]
    }
   ],
   "source": [
    "market_shares_base = market_share(V_0, res_mod0)\n",
    "for alternative, indicator in market_shares_base.items():\n",
    "    print(\n",
    "        f'Market share for {alternative}: {100*indicator.value:.1f}% '\n",
    "        f'[{100*indicator.lower:.1f}%, '\n",
    "        f'{100*indicator.upper:.1f}%]'\n",
    "    )"
   ]
  },
  {
   "cell_type": "code",
   "execution_count": 14,
   "metadata": {},
   "outputs": [
    {
     "name": "stdout",
     "output_type": "stream",
     "text": [
      "         Prob. walk   Prob. cycle     Prob. PT    Prob. car\n",
      "count  5.000000e+03  5.000000e+03  5000.000000  5000.000000\n",
      "mean   1.704008e-01  2.919996e-02     0.357400     0.443000\n",
      "std    2.270605e-01  1.660377e-02     0.238669     0.213765\n",
      "min    2.174021e-26  5.122602e-07     0.000627     0.000161\n",
      "25%    8.570957e-05  1.832766e-02     0.185888     0.284840\n",
      "50%    3.310869e-02  2.910390e-02     0.286574     0.464464\n",
      "75%    3.151704e-01  3.868107e-02     0.441198     0.600420\n",
      "max    8.677694e-01  1.640226e-01     0.999810     0.999295\n",
      "Market share for Walking: 16.9% [15.9%, 17.8%]\n",
      "Market share for Cycling: 2.9% [2.4%, 3.5%]\n",
      "Market share for Public transportation: 36.0% [34.2%, 38.0%]\n",
      "Market share for Car: 44.2% [42.2%, 46.2%]\n"
     ]
    }
   ],
   "source": [
    "market_shares_base = market_share(V_1, res_mod1)\n",
    "for alternative, indicator in market_shares_base.items():\n",
    "    print(\n",
    "        f'Market share for {alternative}: {100*indicator.value:.1f}% '\n",
    "        f'[{100*indicator.lower:.1f}%, '\n",
    "        f'{100*indicator.upper:.1f}%]'\n",
    "    )"
   ]
  },
  {
   "cell_type": "code",
   "execution_count": 15,
   "metadata": {},
   "outputs": [
    {
     "name": "stdout",
     "output_type": "stream",
     "text": [
      "         Prob. walk   Prob. cycle     Prob. PT    Prob. car\n",
      "count  5.000000e+03  5.000000e+03  5000.000000  5000.000000\n",
      "mean   1.703993e-01  2.920025e-02     0.357392     0.443009\n",
      "std    2.279146e-01  1.801238e-02     0.241310     0.221874\n",
      "min    7.812762e-28  3.447750e-09     0.000791     0.000261\n",
      "25%    9.163455e-05  1.758907e-02     0.180924     0.277342\n",
      "50%    3.273473e-02  2.851475e-02     0.285892     0.460267\n",
      "75%    3.104299e-01  3.900590e-02     0.448534     0.601886\n",
      "max    8.739168e-01  1.529539e-01     0.999597     0.998956\n",
      "Market share for Walking: 16.9% [15.8%, 18.2%]\n",
      "Market share for Cycling: 2.9% [2.3%, 3.7%]\n",
      "Market share for Public transportation: 36.0% [33.8%, 38.3%]\n",
      "Market share for Car: 44.1% [41.6%, 46.5%]\n"
     ]
    }
   ],
   "source": [
    "market_shares_base = market_share(V_2, res_mod2)\n",
    "for alternative, indicator in market_shares_base.items():\n",
    "    print(\n",
    "        f'Market share for {alternative}: {100*indicator.value:.1f}% '\n",
    "        f'[{100*indicator.lower:.1f}%, '\n",
    "        f'{100*indicator.upper:.1f}%]'\n",
    "    )"
   ]
  },
  {
   "cell_type": "code",
   "execution_count": 16,
   "metadata": {},
   "outputs": [
    {
     "name": "stdout",
     "output_type": "stream",
     "text": [
      "         Prob. walk  Prob. cycle     Prob. PT    Prob. car\n",
      "count  5.000000e+03  5000.000000  5000.000000  5000.000000\n",
      "mean   1.704009e-01     0.029201     0.357401     0.442998\n",
      "std    2.292483e-01     0.017832     0.245960     0.218750\n",
      "min    1.155219e-30     0.000046     0.007444     0.001268\n",
      "25%    2.714156e-05     0.017530     0.166425     0.280431\n",
      "50%    2.740173e-02     0.026994     0.284779     0.457531\n",
      "75%    3.187701e-01     0.038115     0.474462     0.606570\n",
      "max    8.955295e-01     0.157479     0.998519     0.990473\n",
      "Market share for Walking: 16.9% [15.6%, 18.5%]\n",
      "Market share for Cycling: 2.9% [2.3%, 3.7%]\n",
      "Market share for Public transportation: 36.0% [33.8%, 38.4%]\n",
      "Market share for Car: 44.1% [41.6%, 46.6%]\n"
     ]
    }
   ],
   "source": [
    "market_shares_base = market_share(V_3, res_mod3)\n",
    "for alternative, indicator in market_shares_base.items():\n",
    "    print(\n",
    "        f'Market share for {alternative}: {100*indicator.value:.1f}% '\n",
    "        f'[{100*indicator.lower:.1f}%, '\n",
    "        f'{100*indicator.upper:.1f}%]'\n",
    "    )"
   ]
  },
  {
   "cell_type": "code",
   "execution_count": 17,
   "metadata": {},
   "outputs": [
    {
     "name": "stdout",
     "output_type": "stream",
     "text": [
      "         Prob. walk  Prob. cycle     Prob. PT    Prob. car\n",
      "count  5.000000e+03  5000.000000  5000.000000  5000.000000\n",
      "mean   1.704053e-01     0.029198     0.358718     0.441679\n",
      "std    2.262141e-01     0.013285     0.254006     0.222438\n",
      "min    4.843372e-28     0.001327     0.005325     0.002272\n",
      "25%    5.039167e-05     0.020409     0.155179     0.273727\n",
      "50%    3.071888e-02     0.028397     0.283240     0.448481\n",
      "75%    3.192087e-01     0.036473     0.496332     0.607476\n",
      "max    8.397208e-01     0.080191     0.995338     0.974470\n",
      "Market share for Walking: 16.9% [15.3%, 18.7%]\n",
      "Market share for Cycling: 2.9% [2.1%, 3.8%]\n",
      "Market share for Public transportation: 36.2% [32.6%, 47.5%]\n",
      "Market share for Car: 44.0% [33.5%, 48.0%]\n"
     ]
    }
   ],
   "source": [
    "market_shares_base = market_share(V_3, results_nested)\n",
    "for alternative, indicator in market_shares_base.items():\n",
    "    print(\n",
    "        f'Market share for {alternative}: {100*indicator.value:.1f}% '\n",
    "        f'[{100*indicator.lower:.1f}%, '\n",
    "        f'{100*indicator.upper:.1f}%]'\n",
    "    )"
   ]
  }
 ],
 "metadata": {
  "kernelspec": {
   "display_name": "24env",
   "language": "python",
   "name": "python3"
  },
  "language_info": {
   "codemirror_mode": {
    "name": "ipython",
    "version": 3
   },
   "file_extension": ".py",
   "mimetype": "text/x-python",
   "name": "python",
   "nbconvert_exporter": "python",
   "pygments_lexer": "ipython3",
   "version": "3.12.5"
  }
 },
 "nbformat": 4,
 "nbformat_minor": 4
}
